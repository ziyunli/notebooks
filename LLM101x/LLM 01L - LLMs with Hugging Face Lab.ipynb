{
 "cells": [
  {
   "cell_type": "markdown",
   "metadata": {
    "application/vnd.databricks.v1+cell": {
     "cellMetadata": {},
     "inputWidgets": {},
     "nuid": "a1d3f3d4-50dc-4fb7-a9f4-9c9d2989570f",
     "showTitle": false,
     "title": ""
    }
   },
   "source": [
    "-sandbox\n",
    "\n",
    "<div style=\"text-align: center; line-height: 0; padding-top: 9px;\">\n",
    "  <img src=\"https://databricks.com/wp-content/uploads/2018/03/db-academy-rgb-1200px.png\" alt=\"Databricks Learning\" style=\"width: 600px\">\n",
    "</div>"
   ]
  },
  {
   "cell_type": "markdown",
   "metadata": {
    "application/vnd.databricks.v1+cell": {
     "cellMetadata": {},
     "inputWidgets": {},
     "nuid": "c4324c5c-e93c-4544-8e74-c5508e66bebb",
     "showTitle": false,
     "title": ""
    }
   },
   "source": [
    "# LLMs with Hugging Face\n",
    "\n",
    "**Choosing a pre-trained LLM**: In the demo notebook, you saw how to apply pre-trained models to many applications.  You will do that hands-on in this lab, with your main activity being to find a good model for each task.  Use the tips from the lecture and demo to find good models, and don't hesitate to try a few different possibilities.\n",
    "\n",
    "**Understanding LLM pipeline configurations**: At the end of this lab, you will also do a more open-ended exploration of model and tokenizer configurations.\n",
    "\n",
    "### ![Dolly](https://files.training.databricks.com/images/llm/dolly_small.png) Learning Objectives\n",
    "1. Practice finding an existing model for tasks you want to solve with LLMs.\n",
    "1. Understand the basics of model and tokenizer options for tweaking model outputs and performance."
   ]
  },
  {
   "cell_type": "markdown",
   "metadata": {
    "application/vnd.databricks.v1+cell": {
     "cellMetadata": {},
     "inputWidgets": {},
     "nuid": "9753d77a-a147-4c79-86ed-6224070c8793",
     "showTitle": false,
     "title": ""
    }
   },
   "source": [
    "## Classroom Setup"
   ]
  },
  {
   "cell_type": "code",
   "execution_count": 0,
   "metadata": {
    "application/vnd.databricks.v1+cell": {
     "cellMetadata": {
      "byteLimit": 2048000,
      "rowLimit": 10000
     },
     "inputWidgets": {},
     "nuid": "c2a973cc-0095-4ca8-8e01-f99cbc4b02ab",
     "showTitle": false,
     "title": ""
    }
   },
   "outputs": [
    {
     "output_type": "stream",
     "name": "stdout",
     "text": [
      "\u001b[43mNote: you may need to restart the kernel using dbutils.library.restartPython() to use updated packages.\u001b[0m\n\u001b[43mNote: you may need to restart the kernel using dbutils.library.restartPython() to use updated packages.\u001b[0m\n"
     ]
    },
    {
     "output_type": "stream",
     "name": "stdout",
     "text": [
      "Resetting the learning environment:\n| enumerating serving endpoints...found 0...(0 seconds)\n| No action taken\n\nSkipping install of existing datasets to \"dbfs:/mnt/dbacademy-datasets/large-language-models/v01\"\n\nValidating the locally installed datasets:\n| listing local files...(7 seconds)\n| removing extra path: /models--google--pegasus-xsum/...(1 seconds)\n| removing extra file: /_dbfs_mnt_dbacademy-datasets_large-language-models_v01_xsum_default_1.2.0_082863bf4754ee058a5b6f6525d0cb2b18eadb62c7b370b095d1364050a52b71.lock...(0 seconds)\n| fixed 2 issues...(8 seconds total)\n"
     ]
    },
    {
     "output_type": "stream",
     "name": "stdout",
     "text": [
      "Importing lab testing framework.\n"
     ]
    },
    {
     "output_type": "stream",
     "name": "stdout",
     "text": [
      "\nUsing the \"default\" schema.\n\nPredefined paths variables:\n| DA.paths.working_dir: /dbfs/mnt/dbacademy-users/labuser4279215@vocareum.com/large-language-models\n| DA.paths.user_db:     dbfs:/mnt/dbacademy-users/labuser4279215@vocareum.com/large-language-models/database.db\n| DA.paths.datasets:    /dbfs/mnt/dbacademy-datasets/large-language-models/v01\n\nSetup completed (23 seconds)\n\nThe models developed or used in this course are for demonstration and learning purposes only.\nModels may occasionally output offensive, inaccurate, biased information, or harmful instructions.\n"
     ]
    }
   ],
   "source": [
    "%run ../Includes/Classroom-Setup"
   ]
  },
  {
   "cell_type": "markdown",
   "metadata": {
    "application/vnd.databricks.v1+cell": {
     "cellMetadata": {},
     "inputWidgets": {},
     "nuid": "866e676d-9b27-4a88-acbc-7e526e9d5316",
     "showTitle": false,
     "title": ""
    }
   },
   "source": [
    "## Find good models for your tasks\n",
    "\n",
    "In each subsection below, you will solve a given task with an LLM of your choosing.  These tasks vary from straightforward to open-ended:\n",
    "* **Summarization**: There are many summarization models out there, and many are simply plug-and-play.\n",
    "* **Translation**: This task can require more work since models support varying numbers of languages, and in different ways.  Make sure you invoke your chosen model with the right parameters.\n",
    "* **Few-shot learning**: This task is very open-ended, where you hope to demonstrate your goals to the LLM with just a few examples.  Choosing those examples and phrasing your task correctly can be more art than science.\n",
    "\n",
    "Recall these tips from the lecture and demo:\n",
    "* Use the [Hugging Face Hub](https://huggingface.co/models).\n",
    "* Filter by task, license, language, etc. as needed.\n",
    "* If you have limited compute resources, check model sizes to keep execution times lower.\n",
    "* Search for existing examples as well.  It can be helpful to see exactly how models should be loaded and used."
   ]
  },
  {
   "cell_type": "code",
   "execution_count": 0,
   "metadata": {
    "application/vnd.databricks.v1+cell": {
     "cellMetadata": {
      "byteLimit": 2048000,
      "rowLimit": 10000
     },
     "inputWidgets": {},
     "nuid": "cf505884-885b-45e0-9343-a7c54e11d97d",
     "showTitle": false,
     "title": ""
    }
   },
   "outputs": [],
   "source": [
    "from datasets import load_dataset\n",
    "from transformers import pipeline"
   ]
  },
  {
   "cell_type": "markdown",
   "metadata": {
    "application/vnd.databricks.v1+cell": {
     "cellMetadata": {},
     "inputWidgets": {},
     "nuid": "24e0b505-18ca-4fd1-bffe-fe9e3b1ac0cc",
     "showTitle": false,
     "title": ""
    }
   },
   "source": [
    "### Question 1: Summarization\n",
    "\n",
    "In this section, you will find a model from the Hugging Face Hub for a new summarization problem. **Do not use a T5 model**; find and use a model different from the one we used in the demo notebook.\n",
    "\n",
    "We will use the same [xsum](https://huggingface.co/datasets/xsum) dataset."
   ]
  },
  {
   "cell_type": "code",
   "execution_count": 0,
   "metadata": {
    "application/vnd.databricks.v1+cell": {
     "cellMetadata": {
      "byteLimit": 2048000,
      "rowLimit": 10000
     },
     "inputWidgets": {},
     "nuid": "a8a18ed1-0ebf-41b5-ae8e-0cc6dedf805a",
     "showTitle": false,
     "title": ""
    }
   },
   "outputs": [
    {
     "output_type": "stream",
     "name": "stderr",
     "text": [
      "/databricks/python_shell/dbruntime/huggingface_patches/datasets.py:13: UserWarning: During large dataset downloads, there could be multiple progress bar widgets that can cause performance issues for your notebook or browser. To avoid these issues, use `datasets.utils.logging.disable_progress_bar()` to turn off the progress bars.\n  warnings.warn(\n"
     ]
    },
    {
     "output_type": "display_data",
     "data": {
      "application/vnd.jupyter.widget-view+json": {
       "model_id": "cb399409fbf0451592edf17a2e4b8949",
       "version_major": 2,
       "version_minor": 0
      },
      "text/plain": [
       "Downloading builder script:   0%|          | 0.00/5.76k [00:00<?, ?B/s]"
      ]
     },
     "metadata": {}
    },
    {
     "output_type": "display_data",
     "data": {
      "application/vnd.jupyter.widget-view+json": {
       "model_id": "f9dcf7d4573e4f21b23051cdff315e2e",
       "version_major": 2,
       "version_minor": 0
      },
      "text/plain": [
       "Downloading readme:   0%|          | 0.00/6.24k [00:00<?, ?B/s]"
      ]
     },
     "metadata": {}
    },
    {
     "output_type": "stream",
     "name": "stderr",
     "text": [
      "Found cached dataset xsum (/dbfs/mnt/dbacademy-datasets/large-language-models/v01/xsum/default/1.2.0/082863bf4754ee058a5b6f6525d0cb2b18eadb62c7b370b095d1364050a52b71)\n"
     ]
    },
    {
     "output_type": "display_data",
     "data": {
      "application/vnd.jupyter.widget-view+json": {
       "model_id": "721abd69ea6d43a5bf0997f6f83fac70",
       "version_major": 2,
       "version_minor": 0
      },
      "text/plain": [
       "  0%|          | 0/3 [00:00<?, ?it/s]"
      ]
     },
     "metadata": {}
    },
    {
     "output_type": "display_data",
     "data": {
      "text/html": [
       "<style scoped>\n",
       "  .table-result-container {\n",
       "    max-height: 300px;\n",
       "    overflow: auto;\n",
       "  }\n",
       "  table, th, td {\n",
       "    border: 1px solid black;\n",
       "    border-collapse: collapse;\n",
       "  }\n",
       "  th, td {\n",
       "    padding: 5px;\n",
       "  }\n",
       "  th {\n",
       "    text-align: left;\n",
       "  }\n",
       "</style><div class='table-result-container'><table class='table-result'><thead style='background-color: white'><tr><th>document</th><th>summary</th><th>id</th></tr></thead><tbody><tr><td>The full cost of damage in Newton Stewart, one of the areas worst affected, is still being assessed.\n",
       "Repair work is ongoing in Hawick and many roads in Peeblesshire remain badly affected by standing water.\n",
       "Trains on the west coast mainline face disruption due to damage at the Lamington Viaduct.\n",
       "Many businesses and householders were affected by flooding in Newton Stewart after the River Cree overflowed into the town.\n",
       "First Minister Nicola Sturgeon visited the area to inspect the damage.\n",
       "The waters breached a retaining wall, flooding many commercial properties on Victoria Street - the main shopping thoroughfare.\n",
       "Jeanette Tate, who owns the Cinnamon Cafe which was badly affected, said she could not fault the multi-agency response once the flood hit.\n",
       "However, she said more preventative work could have been carried out to ensure the retaining wall did not fail.\n",
       "\"It is difficult but I do think there is so much publicity for Dumfries and the Nith - and I totally appreciate that - but it is almost like we're neglected or forgotten,\" she said.\n",
       "\"That may not be true but it is perhaps my perspective over the last few days.\n",
       "\"Why were you not ready to help us a bit more when the warning and the alarm alerts had gone out?\"\n",
       "Meanwhile, a flood alert remains in place across the Borders because of the constant rain.\n",
       "Peebles was badly hit by problems, sparking calls to introduce more defences in the area.\n",
       "Scottish Borders Council has put a list on its website of the roads worst affected and drivers have been urged not to ignore closure signs.\n",
       "The Labour Party's deputy Scottish leader Alex Rowley was in Hawick on Monday to see the situation first hand.\n",
       "He said it was important to get the flood protection plan right but backed calls to speed up the process.\n",
       "\"I was quite taken aback by the amount of damage that has been done,\" he said.\n",
       "\"Obviously it is heart-breaking for people who have been forced out of their homes and the impact on businesses.\"\n",
       "He said it was important that \"immediate steps\" were taken to protect the areas most vulnerable and a clear timetable put in place for flood prevention plans.\n",
       "Have you been affected by flooding in Dumfries and Galloway or the Borders? Tell us about your experience of the situation and how it was handled. Email us on selkirk.news@bbc.co.uk or dumfries@bbc.co.uk.</td><td>Clean-up operations are continuing across the Scottish Borders and Dumfries and Galloway after flooding caused by Storm Frank.</td><td>35232142</td></tr><tr><td>A fire alarm went off at the Holiday Inn in Hope Street at about 04:20 BST on Saturday and guests were asked to leave the hotel.\n",
       "As they gathered outside they saw the two buses, parked side-by-side in the car park, engulfed by flames.\n",
       "One of the tour groups is from Germany, the other from China and Taiwan. It was their first night in Northern Ireland.\n",
       "The driver of one of the buses said many of the passengers had left personal belongings on board and these had been destroyed.\n",
       "Both groups have organised replacement coaches and will begin their tour of the north coast later than they had planned.\n",
       "Police have appealed for information about the attack.\n",
       "Insp David Gibson said: \"It appears as though the fire started under one of the buses before spreading to the second.\n",
       "\"While the exact cause is still under investigation, it is thought that the fire was started deliberately.\"</td><td>Two tourist buses have been destroyed by fire in a suspected arson attack in Belfast city centre.</td><td>40143035</td></tr><tr><td>Ferrari appeared in a position to challenge until the final laps, when the Mercedes stretched their legs to go half a second clear of the red cars.\n",
       "Sebastian Vettel will start third ahead of team-mate Kimi Raikkonen.\n",
       "The world champion subsequently escaped punishment for reversing in the pit lane, which could have seen him stripped of pole.\n",
       "But stewards only handed Hamilton a reprimand, after governing body the FIA said \"no clear instruction was given on where he should park\".\n",
       "Belgian Stoffel Vandoorne out-qualified McLaren team-mate Jenson Button on his Formula 1 debut.\n",
       "Vandoorne was 12th and Button 14th, complaining of a handling imbalance on his final lap but admitting the newcomer \"did a good job and I didn't\".\n",
       "Mercedes were wary of Ferrari's pace before qualifying after Vettel and Raikkonen finished one-two in final practice, and their concerns appeared to be well founded as the red cars mixed it with the silver through most of qualifying.\n",
       "After the first runs, Rosberg was ahead, with Vettel and Raikkonen splitting him from Hamilton, who made a mistake at the final corner on his first lap.\n",
       "But Hamilton saved his best for last, fastest in every sector of his final attempt, to beat Rosberg by just 0.077secs after the German had out-paced him throughout practice and in the first qualifying session.\n",
       "Vettel rued a mistake at the final corner on his last lap, but the truth is that with the gap at 0.517secs to Hamilton there was nothing he could have done.\n",
       "The gap suggests Mercedes are favourites for the race, even if Ferrari can be expected to push them.\n",
       "Vettel said: \"Last year we were very strong in the race and I think we are in good shape for tomorrow. We will try to give them a hard time.\"\n",
       "Vandoorne's preparations for his grand prix debut were far from ideal - he only found out he was racing on Thursday when FIA doctors declared Fernando Alonso unfit because of a broken rib sustained in his huge crash at the first race of the season in Australia two weeks ago.\n",
       "The Belgian rookie had to fly overnight from Japan, where he had been testing in the Super Formula car he races there, and arrived in Bahrain only hours before first practice on Friday.\n",
       "He also had a difficult final practice, missing all but the final quarter of the session because of a water leak.\n",
       "Button was quicker in the first qualifying session, but Vandoorne pipped him by 0.064secs when it mattered.\n",
       "The 24-year-old said: \"I knew after yesterday I had quite similar pace to Jenson and I knew if I improved a little bit I could maybe challenge him and even out-qualify him and that is what has happened.\n",
       "\"Jenson is a very good benchmark for me because he is a world champion and he is well known to the team so I am very satisfied with the qualifying.\"\n",
       "Button, who was 0.5secs quicker than Vandoorne in the first session, complained of oversteer on his final run in the second: \"Q1 was what I was expecting. Q2 he did a good job and I didn't. Very, very good job. We knew how quick he was.\"\n",
       "The controversial new elimination qualifying system was retained for this race despite teams voting at the first race in Australia to go back to the 2015 system.\n",
       "FIA president Jean Todt said earlier on Saturday that he \"felt it necessary to give new qualifying one more chance\", adding: \"We live in a world where there is too much over reaction.\"\n",
       "The system worked on the basis of mixing up the grid a little - Force India's Sergio Perez ended up out of position in 18th place after the team miscalculated the timing of his final run, leaving him not enough time to complete it before the elimination clock timed him out.\n",
       "But it will come in for more criticism as a result of lack of track action at the end of each session. There were three minutes at the end of the first session with no cars on the circuit, and the end of the second session was a similar damp squib.\n",
       "Only one car - Nico Hulkenberg's Force India - was out on the track with six minutes to go. The two Williams cars did go out in the final three minutes but were already through to Q3 and so nothing was at stake.\n",
       "The teams are meeting with Todt and F1 commercial boss Bernie Ecclestone on Sunday at noon local time to decide on what to do with qualifying for the rest of the season.\n",
       "Todt said he was \"optimistic\" they would be able to reach unanimous agreement on a change.\n",
       "\"We should listen to the people watching on TV,\" Rosberg said. \"If they are still unhappy, which I am sure they will be, we should change it.\"\n",
       "Red Bull's Daniel Ricciardo was fifth on the grid, ahead of the Williams cars of Valtteri Bottas and Felipe Massa and Force India's Nico Hulkenberg.\n",
       "Ricciardo's team-mate Daniil Kvyat was eliminated during the second session - way below the team's expectation - and the Renault of Brit Jolyon Palmer only managed 19th fastest.\n",
       "German Mercedes protege Pascal Wehrlein managed an excellent 16th in the Manor car.\n",
       "Bahrain GP qualifying results\n",
       "Bahrain GP coverage details</td><td>Lewis Hamilton stormed to pole position at the Bahrain Grand Prix ahead of Mercedes team-mate Nico Rosberg.</td><td>35951548</td></tr><tr><td>John Edward Bates, formerly of Spalding, Lincolnshire, but now living in London, faces a total of 22 charges, including two counts of indecency with a child.\n",
       "The 67-year-old is accused of committing the offences between March 1972 and October 1989.\n",
       "Mr Bates denies all the charges.\n",
       "Grace Hale, prosecuting, told the jury that the allegations of sexual abuse were made by made by four male complainants and related to when Mr Bates was a scout leader in South Lincolnshire and Cambridgeshire.\n",
       "\"The defendant says nothing of that sort happened between himself and all these individuals. He says they are all fabricating their accounts and telling lies,\" said Mrs Hale.\n",
       "The prosecutor claimed Mr Bates invited one 15 year old to his home offering him the chance to look at cine films made at scout camps but then showed him pornographic films.\n",
       "She told the jury that the boy was then sexually abused leaving him confused and frightened.\n",
       "Mrs Hale said: \"The complainant's recollection is that on a number of occasions sexual acts would happen with the defendant either in the defendant's car or in his cottage.\"\n",
       "She told the jury a second boy was taken by Mr Bates for a weekend in London at the age of 13 or 14 and after visiting pubs he was later sexually abused.\n",
       "Mrs Hale said two boys from the Spalding group had also made complaints of being sexually abused.\n",
       "The jury has been told that Mr Bates was in the RAF before serving as a Lincolnshire Police officer between 1976 and 1983.\n",
       "The trial, which is expected to last two weeks, continues.</td><td>A former Lincolnshire Police officer carried out a series of sex attacks on boys, a jury at Lincoln Crown Court was told.</td><td>36266422</td></tr><tr><td>Patients and staff were evacuated from Cerahpasa hospital on Wednesday after a man receiving treatment at the clinic threatened to shoot himself and others.\n",
       "Officers were deployed to negotiate with the man, a young police officer.\n",
       "Earlier reports that the armed man had taken several people hostage proved incorrect.\n",
       "The chief consultant of Cerahpasa hospital, Zekayi Kutlubay, who was evacuated from the facility, said that there had been \"no hostage crises\", adding that the man was \"alone in the room\".\n",
       "Dr Kutlubay said that the man had been receiving psychiatric treatment for the past two years.\n",
       "He said that the hospital had previously submitted a report stating that the man should not be permitted to carry a gun.\n",
       "\"His firearm was taken away,\" Dr Kutlubay said, adding that the gun in the officer's possession on Wednesday was not his issued firearm.\n",
       "The incident comes amid tension in Istanbul following several attacks in crowded areas, including the deadly assault on the Reina nightclub on New Year's Eve which left 39 people dead.</td><td>An armed man who locked himself into a room at a psychiatric hospital in Istanbul has ended his threat to kill himself, Turkish media report.</td><td>38826984</td></tr><tr><td>Simone Favaro got the crucial try with the last move of the game, following earlier touchdowns by Chris Fusaro, Zander Fagerson and Junior Bulumakau.\n",
       "Rynard Landman and Ashton Hewitt got a try in either half for the Dragons.\n",
       "Glasgow showed far superior strength in depth as they took control of a messy match in the second period.\n",
       "Home coach Gregor Townsend gave a debut to powerhouse Fijian-born Wallaby wing Taqele Naiyaravoro, and centre Alex Dunbar returned from long-term injury, while the Dragons gave first starts of the season to wing Aled Brew and hooker Elliot Dee.\n",
       "Glasgow lost hooker Pat McArthur to an early shoulder injury but took advantage of their first pressure when Rory Clegg slotted over a penalty on 12 minutes.\n",
       "It took 24 minutes for a disjointed game to produce a try as Sarel Pretorius sniped from close range and Landman forced his way over for Jason Tovey to convert - although it was the lock's last contribution as he departed with a chest injury shortly afterwards.\n",
       "Glasgow struck back when Fusaro drove over from a rolling maul on 35 minutes for Clegg to convert.\n",
       "But the Dragons levelled at 10-10 before half-time when Naiyaravoro was yellow-carded for an aerial tackle on Brew and Tovey slotted the easy goal.\n",
       "The visitors could not make the most of their one-man advantage after the break as their error count cost them dearly.\n",
       "It was Glasgow's bench experience that showed when Mike Blair's break led to a short-range score from teenage prop Fagerson, converted by Clegg.\n",
       "Debutant Favaro was the second home player to be sin-binned, on 63 minutes, but again the Warriors made light of it as replacement wing Bulumakau, a recruit from the Army, pounced to deftly hack through a bouncing ball for an opportunist try.\n",
       "The Dragons got back within striking range with some excellent combined handling putting Hewitt over unopposed after 72 minutes.\n",
       "However, Favaro became sinner-turned-saint as he got on the end of another effective rolling maul to earn his side the extra point with the last move of the game, Clegg converting.\n",
       "Dragons director of rugby Lyn Jones said: \"We're disappointed to have lost but our performance was a lot better [than against Leinster] and the game could have gone either way.\n",
       "\"Unfortunately too many errors behind the scrum cost us a great deal, though from where we were a fortnight ago in Dublin our workrate and desire was excellent.\n",
       "\"It was simply error count from individuals behind the scrum that cost us field position, it's not rocket science - they were correct in how they played and we had a few errors, that was the difference.\"\n",
       "Glasgow Warriors: Rory Hughes, Taqele Naiyaravoro, Alex Dunbar, Fraser Lyle, Lee Jones, Rory Clegg, Grayson Hart; Alex Allan, Pat MacArthur, Zander Fagerson, Rob Harley (capt), Scott Cummings, Hugh Blake, Chris Fusaro, Adam Ashe.\n",
       "Replacements: Fergus Scott, Jerry Yanuyanutawa, Mike Cusack, Greg Peterson, Simone Favaro, Mike Blair, Gregor Hunter, Junior Bulumakau.\n",
       "Dragons: Carl Meyer, Ashton Hewitt, Ross Wardle, Adam Warren, Aled Brew, Jason Tovey, Sarel Pretorius; Boris Stankovich, Elliot Dee, Brok Harris, Nick Crosswell, Rynard Landman (capt), Lewis Evans, Nic Cudd, Ed Jackson.\n",
       "Replacements: Rhys Buckley, Phil Price, Shaun Knight, Matthew Screech, Ollie Griffiths, Luc Jones, Charlie Davies, Nick Scott.</td><td>Defending Pro12 champions Glasgow Warriors bagged a late bonus-point victory over the Dragons despite a host of absentees and two yellow cards.</td><td>34540833</td></tr><tr><td>Veronica Vanessa Chango-Alverez, 31, was killed and another man injured when an Audi A3 struck them in Streatham High Road at 05:30 GMT on Saturday.\n",
       "Ten minutes before the crash the car was in London Road, Croydon, when a Volkswagen Passat collided with a tree.\n",
       "Police want to trace Nathan Davis, 27, who they say has links to the Audi. The car was abandoned at the scene.\n",
       "Ms Chango-Alverez died from multiple injuries, a post-mortem examination found.\n",
       "No arrests have been made as yet, police said.\n",
       "Ms Chango-Alverez was staying at her mother's home in Streatham High Road.\n",
       "She was born in Ecuador and had lived in London for 13 years, BBC London reporter Gareth Furby said. At the time of the crash, she was on her way to work in a hotel.\n",
       "The remains of the bus stop, which was extensively damaged in the crash, have been removed.\n",
       "Flowers have been left at the site in tribute to the victim.\n",
       "A statement from her brother Kevin Raul Chango-Alverez said: \"My family has had its heart torn out, at this Christmas time, we will never be the same again.\n",
       "\"On Friday night we were together as a family with Veronica meeting her newly born nephew and preparing for Christmas.\n",
       "\"I last saw her alive as she left to go to work on Saturday morning, but moments later I was holding her hand as she passed away in the street.\"\n",
       "Describing the crash as \"horrific\" Det Insp Gordon Wallace, said: \"The family are devastated. The memory of this senseless death will be with them each time they leave their home.\n",
       "\"The driver fled the scene abandoning the grey Audi, which was extensively damaged.\n",
       "\"We are looking to speak to Mr Nathan Davis in relation to this collision.\"\n",
       "The 51-year-old man injured at the bus stop remains in a critical condition in hospital while the condition of the 29-year-old driver of the Volkswagen is now stable.</td><td>A man with links to a car that was involved in a fatal bus stop crash in south London is being sought by police.</td><td>20836172</td></tr><tr><td>Belgian cyclist Demoitie died after a collision with a motorbike during Belgium's Gent-Wevelgem race.\n",
       "The 25-year-old was hit by the motorbike after several riders came down in a crash as the race passed through northern France.\n",
       "\"The main issues come when cars or motorbikes have to pass the peloton and pass riders,\" Team Sky's Rowe said.\n",
       "\"That is the fundamental issue we're looking into.\n",
       "\"There's a lot of motorbikes in and around the race whether it be cameras for TV, photographers or police motorbikes.\n",
       "\"In total there's around 50 motorbikes that work on each race.\n",
       "\"We've got a riders union and we're coming together to think of a few ideas, whether we cap a speed limit on how fast they can overtake us.\n",
       "\"Say we put a 10 kilometres per hour limit on it, if we're going 50kph they're only allowed to pass us 60kph or something like that.\"\n",
       "Demoitie, who was riding for the Wanty-Gobert team, was taken to hospital in Lille but died later.\n",
       "The sport's governing body, the UCI, said it would co-operate with all relevant authorities in an investigation into the incident.\n",
       "The Professional Cyclists' Association (CPA) issued a statement asking what would be done to improve safety.\n",
       "Despite Demoitie's death, attitudes to road racing will stay the same says Rowe, who has been competing in Three Days of De Panne race in Belgium.\n",
       "\"As soon as that element of fear slips into your mind and you start thinking of things that could happen, that's when you're doomed to fail,\" he told BBC Wales Sport.\n",
       "\"If you start thinking about crashes and the consequences and what could potentially happen then you're never going to be at the front of the peloton and you're never going to win any races.\"\n",
       "In a separate incident, another Belgian cyclist, Daan Myngheer, 22, died in hospital after suffering a heart attack during the first stage of the Criterium International in Corsica.</td><td>Welsh cyclist Luke Rowe says changes to the sport must be made following the death of Antoine Demoitie.</td><td>35932467</td></tr><tr><td>Gundogan, 26, told BBC Sport he \"can see the finishing line\" after tearing cruciate knee ligaments in December, but will not rush his return.\n",
       "The German missed the 2014 World Cup following back surgery that kept him out for a year, and sat out Euro 2016 because of a dislocated kneecap.\n",
       "He said: \"It is heavy mentally to accept that.\"\n",
       "Gundogan will not be fit for the start of the Premier League season at Brighton on 12 August but said his recovery time is now being measured in \"weeks\" rather than months.\n",
       "He told BBC Sport: \"It is really hard always to fall and fight your way back. You feel good and feel ready, then you get the next kick.\n",
       "\"The worst part is behind me now. I want to feel ready when I am fully back. I want to feel safe and confident. I don't mind if it is two weeks or six.\"\n",
       "Gundogan made 15 appearances and scored five goals in his debut season for City following his £20m move from Borussia Dortmund.\n",
       "He is eager to get on the field again and was impressed at the club's 4-1 win over Real Madrid in a pre-season game in Los Angeles on Wednesday.\n",
       "Manager Pep Guardiola has made five new signings already this summer and continues to have an interest in Arsenal forward Alexis Sanchez and Monaco's Kylian Mbappe.\n",
       "Gundogan said: \"Optimism for the season is big. It is huge, definitely.\n",
       "\"We felt that last year as well but it was a completely new experience for all of us. We know the Premier League a bit more now and can't wait for the season to start.\"\n",
       "City complete their three-match tour of the United States against Tottenham in Nashville on Saturday.\n",
       "Chelsea manager Antonio Conte said earlier this week he did not feel Tottenham were judged by the same standards as his own side, City and Manchester United.\n",
       "Spurs have had the advantage in their recent meetings with City, winning three and drawing one of their last four Premier League games.\n",
       "And Gundogan thinks they are a major threat.\n",
       "He said: \"Tottenham are a great team. They have the style of football. They have young English players. Our experience last season shows it is really tough to beat them.\n",
       "\"They are really uncomfortable to play against.\n",
       "\"I am pretty sure, even if they will not say it loud, the people who know the Premier League know Tottenham are definitely a competitor for the title.\"</td><td>Manchester City midfielder Ilkay Gundogan says it has been mentally tough to overcome a third major injury.</td><td>40758845</td></tr><tr><td>The crash happened about 07:20 GMT at the junction of the A127 and Progress Road in Leigh-on-Sea, Essex.\n",
       "The man, who police said is aged in his 20s, was treated at the scene for a head injury and suspected multiple fractures, the ambulance service said.\n",
       "He was airlifted to the Royal London Hospital for further treatment.\n",
       "The Southend-bound carriageway of the A127 was closed for about six hours while police conducted their initial inquiries.\n",
       "A spokeswoman for Essex Police said it was not possible comment to further as this time as the \"investigation is now being conducted by the IPCC\".</td><td>A jogger has been hit by an unmarked police car responding to an emergency call, leaving him with \"serious life-changing injuries\".</td><td>30358490</td></tr></tbody></table></div>"
      ]
     },
     "metadata": {
      "application/vnd.databricks.v1+output": {
       "addedWidgets": {},
       "aggData": [],
       "aggError": "",
       "aggOverflow": false,
       "aggSchema": [],
       "aggSeriesLimitReached": false,
       "aggType": "",
       "arguments": {},
       "columnCustomDisplayInfos": {},
       "data": [
        [
         "The full cost of damage in Newton Stewart, one of the areas worst affected, is still being assessed.\nRepair work is ongoing in Hawick and many roads in Peeblesshire remain badly affected by standing water.\nTrains on the west coast mainline face disruption due to damage at the Lamington Viaduct.\nMany businesses and householders were affected by flooding in Newton Stewart after the River Cree overflowed into the town.\nFirst Minister Nicola Sturgeon visited the area to inspect the damage.\nThe waters breached a retaining wall, flooding many commercial properties on Victoria Street - the main shopping thoroughfare.\nJeanette Tate, who owns the Cinnamon Cafe which was badly affected, said she could not fault the multi-agency response once the flood hit.\nHowever, she said more preventative work could have been carried out to ensure the retaining wall did not fail.\n\"It is difficult but I do think there is so much publicity for Dumfries and the Nith - and I totally appreciate that - but it is almost like we're neglected or forgotten,\" she said.\n\"That may not be true but it is perhaps my perspective over the last few days.\n\"Why were you not ready to help us a bit more when the warning and the alarm alerts had gone out?\"\nMeanwhile, a flood alert remains in place across the Borders because of the constant rain.\nPeebles was badly hit by problems, sparking calls to introduce more defences in the area.\nScottish Borders Council has put a list on its website of the roads worst affected and drivers have been urged not to ignore closure signs.\nThe Labour Party's deputy Scottish leader Alex Rowley was in Hawick on Monday to see the situation first hand.\nHe said it was important to get the flood protection plan right but backed calls to speed up the process.\n\"I was quite taken aback by the amount of damage that has been done,\" he said.\n\"Obviously it is heart-breaking for people who have been forced out of their homes and the impact on businesses.\"\nHe said it was important that \"immediate steps\" were taken to protect the areas most vulnerable and a clear timetable put in place for flood prevention plans.\nHave you been affected by flooding in Dumfries and Galloway or the Borders? Tell us about your experience of the situation and how it was handled. Email us on selkirk.news@bbc.co.uk or dumfries@bbc.co.uk.",
         "Clean-up operations are continuing across the Scottish Borders and Dumfries and Galloway after flooding caused by Storm Frank.",
         "35232142"
        ],
        [
         "A fire alarm went off at the Holiday Inn in Hope Street at about 04:20 BST on Saturday and guests were asked to leave the hotel.\nAs they gathered outside they saw the two buses, parked side-by-side in the car park, engulfed by flames.\nOne of the tour groups is from Germany, the other from China and Taiwan. It was their first night in Northern Ireland.\nThe driver of one of the buses said many of the passengers had left personal belongings on board and these had been destroyed.\nBoth groups have organised replacement coaches and will begin their tour of the north coast later than they had planned.\nPolice have appealed for information about the attack.\nInsp David Gibson said: \"It appears as though the fire started under one of the buses before spreading to the second.\n\"While the exact cause is still under investigation, it is thought that the fire was started deliberately.\"",
         "Two tourist buses have been destroyed by fire in a suspected arson attack in Belfast city centre.",
         "40143035"
        ],
        [
         "Ferrari appeared in a position to challenge until the final laps, when the Mercedes stretched their legs to go half a second clear of the red cars.\nSebastian Vettel will start third ahead of team-mate Kimi Raikkonen.\nThe world champion subsequently escaped punishment for reversing in the pit lane, which could have seen him stripped of pole.\nBut stewards only handed Hamilton a reprimand, after governing body the FIA said \"no clear instruction was given on where he should park\".\nBelgian Stoffel Vandoorne out-qualified McLaren team-mate Jenson Button on his Formula 1 debut.\nVandoorne was 12th and Button 14th, complaining of a handling imbalance on his final lap but admitting the newcomer \"did a good job and I didn't\".\nMercedes were wary of Ferrari's pace before qualifying after Vettel and Raikkonen finished one-two in final practice, and their concerns appeared to be well founded as the red cars mixed it with the silver through most of qualifying.\nAfter the first runs, Rosberg was ahead, with Vettel and Raikkonen splitting him from Hamilton, who made a mistake at the final corner on his first lap.\nBut Hamilton saved his best for last, fastest in every sector of his final attempt, to beat Rosberg by just 0.077secs after the German had out-paced him throughout practice and in the first qualifying session.\nVettel rued a mistake at the final corner on his last lap, but the truth is that with the gap at 0.517secs to Hamilton there was nothing he could have done.\nThe gap suggests Mercedes are favourites for the race, even if Ferrari can be expected to push them.\nVettel said: \"Last year we were very strong in the race and I think we are in good shape for tomorrow. We will try to give them a hard time.\"\nVandoorne's preparations for his grand prix debut were far from ideal - he only found out he was racing on Thursday when FIA doctors declared Fernando Alonso unfit because of a broken rib sustained in his huge crash at the first race of the season in Australia two weeks ago.\nThe Belgian rookie had to fly overnight from Japan, where he had been testing in the Super Formula car he races there, and arrived in Bahrain only hours before first practice on Friday.\nHe also had a difficult final practice, missing all but the final quarter of the session because of a water leak.\nButton was quicker in the first qualifying session, but Vandoorne pipped him by 0.064secs when it mattered.\nThe 24-year-old said: \"I knew after yesterday I had quite similar pace to Jenson and I knew if I improved a little bit I could maybe challenge him and even out-qualify him and that is what has happened.\n\"Jenson is a very good benchmark for me because he is a world champion and he is well known to the team so I am very satisfied with the qualifying.\"\nButton, who was 0.5secs quicker than Vandoorne in the first session, complained of oversteer on his final run in the second: \"Q1 was what I was expecting. Q2 he did a good job and I didn't. Very, very good job. We knew how quick he was.\"\nThe controversial new elimination qualifying system was retained for this race despite teams voting at the first race in Australia to go back to the 2015 system.\nFIA president Jean Todt said earlier on Saturday that he \"felt it necessary to give new qualifying one more chance\", adding: \"We live in a world where there is too much over reaction.\"\nThe system worked on the basis of mixing up the grid a little - Force India's Sergio Perez ended up out of position in 18th place after the team miscalculated the timing of his final run, leaving him not enough time to complete it before the elimination clock timed him out.\nBut it will come in for more criticism as a result of lack of track action at the end of each session. There were three minutes at the end of the first session with no cars on the circuit, and the end of the second session was a similar damp squib.\nOnly one car - Nico Hulkenberg's Force India - was out on the track with six minutes to go. The two Williams cars did go out in the final three minutes but were already through to Q3 and so nothing was at stake.\nThe teams are meeting with Todt and F1 commercial boss Bernie Ecclestone on Sunday at noon local time to decide on what to do with qualifying for the rest of the season.\nTodt said he was \"optimistic\" they would be able to reach unanimous agreement on a change.\n\"We should listen to the people watching on TV,\" Rosberg said. \"If they are still unhappy, which I am sure they will be, we should change it.\"\nRed Bull's Daniel Ricciardo was fifth on the grid, ahead of the Williams cars of Valtteri Bottas and Felipe Massa and Force India's Nico Hulkenberg.\nRicciardo's team-mate Daniil Kvyat was eliminated during the second session - way below the team's expectation - and the Renault of Brit Jolyon Palmer only managed 19th fastest.\nGerman Mercedes protege Pascal Wehrlein managed an excellent 16th in the Manor car.\nBahrain GP qualifying results\nBahrain GP coverage details",
         "Lewis Hamilton stormed to pole position at the Bahrain Grand Prix ahead of Mercedes team-mate Nico Rosberg.",
         "35951548"
        ],
        [
         "John Edward Bates, formerly of Spalding, Lincolnshire, but now living in London, faces a total of 22 charges, including two counts of indecency with a child.\nThe 67-year-old is accused of committing the offences between March 1972 and October 1989.\nMr Bates denies all the charges.\nGrace Hale, prosecuting, told the jury that the allegations of sexual abuse were made by made by four male complainants and related to when Mr Bates was a scout leader in South Lincolnshire and Cambridgeshire.\n\"The defendant says nothing of that sort happened between himself and all these individuals. He says they are all fabricating their accounts and telling lies,\" said Mrs Hale.\nThe prosecutor claimed Mr Bates invited one 15 year old to his home offering him the chance to look at cine films made at scout camps but then showed him pornographic films.\nShe told the jury that the boy was then sexually abused leaving him confused and frightened.\nMrs Hale said: \"The complainant's recollection is that on a number of occasions sexual acts would happen with the defendant either in the defendant's car or in his cottage.\"\nShe told the jury a second boy was taken by Mr Bates for a weekend in London at the age of 13 or 14 and after visiting pubs he was later sexually abused.\nMrs Hale said two boys from the Spalding group had also made complaints of being sexually abused.\nThe jury has been told that Mr Bates was in the RAF before serving as a Lincolnshire Police officer between 1976 and 1983.\nThe trial, which is expected to last two weeks, continues.",
         "A former Lincolnshire Police officer carried out a series of sex attacks on boys, a jury at Lincoln Crown Court was told.",
         "36266422"
        ],
        [
         "Patients and staff were evacuated from Cerahpasa hospital on Wednesday after a man receiving treatment at the clinic threatened to shoot himself and others.\nOfficers were deployed to negotiate with the man, a young police officer.\nEarlier reports that the armed man had taken several people hostage proved incorrect.\nThe chief consultant of Cerahpasa hospital, Zekayi Kutlubay, who was evacuated from the facility, said that there had been \"no hostage crises\", adding that the man was \"alone in the room\".\nDr Kutlubay said that the man had been receiving psychiatric treatment for the past two years.\nHe said that the hospital had previously submitted a report stating that the man should not be permitted to carry a gun.\n\"His firearm was taken away,\" Dr Kutlubay said, adding that the gun in the officer's possession on Wednesday was not his issued firearm.\nThe incident comes amid tension in Istanbul following several attacks in crowded areas, including the deadly assault on the Reina nightclub on New Year's Eve which left 39 people dead.",
         "An armed man who locked himself into a room at a psychiatric hospital in Istanbul has ended his threat to kill himself, Turkish media report.",
         "38826984"
        ],
        [
         "Simone Favaro got the crucial try with the last move of the game, following earlier touchdowns by Chris Fusaro, Zander Fagerson and Junior Bulumakau.\nRynard Landman and Ashton Hewitt got a try in either half for the Dragons.\nGlasgow showed far superior strength in depth as they took control of a messy match in the second period.\nHome coach Gregor Townsend gave a debut to powerhouse Fijian-born Wallaby wing Taqele Naiyaravoro, and centre Alex Dunbar returned from long-term injury, while the Dragons gave first starts of the season to wing Aled Brew and hooker Elliot Dee.\nGlasgow lost hooker Pat McArthur to an early shoulder injury but took advantage of their first pressure when Rory Clegg slotted over a penalty on 12 minutes.\nIt took 24 minutes for a disjointed game to produce a try as Sarel Pretorius sniped from close range and Landman forced his way over for Jason Tovey to convert - although it was the lock's last contribution as he departed with a chest injury shortly afterwards.\nGlasgow struck back when Fusaro drove over from a rolling maul on 35 minutes for Clegg to convert.\nBut the Dragons levelled at 10-10 before half-time when Naiyaravoro was yellow-carded for an aerial tackle on Brew and Tovey slotted the easy goal.\nThe visitors could not make the most of their one-man advantage after the break as their error count cost them dearly.\nIt was Glasgow's bench experience that showed when Mike Blair's break led to a short-range score from teenage prop Fagerson, converted by Clegg.\nDebutant Favaro was the second home player to be sin-binned, on 63 minutes, but again the Warriors made light of it as replacement wing Bulumakau, a recruit from the Army, pounced to deftly hack through a bouncing ball for an opportunist try.\nThe Dragons got back within striking range with some excellent combined handling putting Hewitt over unopposed after 72 minutes.\nHowever, Favaro became sinner-turned-saint as he got on the end of another effective rolling maul to earn his side the extra point with the last move of the game, Clegg converting.\nDragons director of rugby Lyn Jones said: \"We're disappointed to have lost but our performance was a lot better [than against Leinster] and the game could have gone either way.\n\"Unfortunately too many errors behind the scrum cost us a great deal, though from where we were a fortnight ago in Dublin our workrate and desire was excellent.\n\"It was simply error count from individuals behind the scrum that cost us field position, it's not rocket science - they were correct in how they played and we had a few errors, that was the difference.\"\nGlasgow Warriors: Rory Hughes, Taqele Naiyaravoro, Alex Dunbar, Fraser Lyle, Lee Jones, Rory Clegg, Grayson Hart; Alex Allan, Pat MacArthur, Zander Fagerson, Rob Harley (capt), Scott Cummings, Hugh Blake, Chris Fusaro, Adam Ashe.\nReplacements: Fergus Scott, Jerry Yanuyanutawa, Mike Cusack, Greg Peterson, Simone Favaro, Mike Blair, Gregor Hunter, Junior Bulumakau.\nDragons: Carl Meyer, Ashton Hewitt, Ross Wardle, Adam Warren, Aled Brew, Jason Tovey, Sarel Pretorius; Boris Stankovich, Elliot Dee, Brok Harris, Nick Crosswell, Rynard Landman (capt), Lewis Evans, Nic Cudd, Ed Jackson.\nReplacements: Rhys Buckley, Phil Price, Shaun Knight, Matthew Screech, Ollie Griffiths, Luc Jones, Charlie Davies, Nick Scott.",
         "Defending Pro12 champions Glasgow Warriors bagged a late bonus-point victory over the Dragons despite a host of absentees and two yellow cards.",
         "34540833"
        ],
        [
         "Veronica Vanessa Chango-Alverez, 31, was killed and another man injured when an Audi A3 struck them in Streatham High Road at 05:30 GMT on Saturday.\nTen minutes before the crash the car was in London Road, Croydon, when a Volkswagen Passat collided with a tree.\nPolice want to trace Nathan Davis, 27, who they say has links to the Audi. The car was abandoned at the scene.\nMs Chango-Alverez died from multiple injuries, a post-mortem examination found.\nNo arrests have been made as yet, police said.\nMs Chango-Alverez was staying at her mother's home in Streatham High Road.\nShe was born in Ecuador and had lived in London for 13 years, BBC London reporter Gareth Furby said. At the time of the crash, she was on her way to work in a hotel.\nThe remains of the bus stop, which was extensively damaged in the crash, have been removed.\nFlowers have been left at the site in tribute to the victim.\nA statement from her brother Kevin Raul Chango-Alverez said: \"My family has had its heart torn out, at this Christmas time, we will never be the same again.\n\"On Friday night we were together as a family with Veronica meeting her newly born nephew and preparing for Christmas.\n\"I last saw her alive as she left to go to work on Saturday morning, but moments later I was holding her hand as she passed away in the street.\"\nDescribing the crash as \"horrific\" Det Insp Gordon Wallace, said: \"The family are devastated. The memory of this senseless death will be with them each time they leave their home.\n\"The driver fled the scene abandoning the grey Audi, which was extensively damaged.\n\"We are looking to speak to Mr Nathan Davis in relation to this collision.\"\nThe 51-year-old man injured at the bus stop remains in a critical condition in hospital while the condition of the 29-year-old driver of the Volkswagen is now stable.",
         "A man with links to a car that was involved in a fatal bus stop crash in south London is being sought by police.",
         "20836172"
        ],
        [
         "Belgian cyclist Demoitie died after a collision with a motorbike during Belgium's Gent-Wevelgem race.\nThe 25-year-old was hit by the motorbike after several riders came down in a crash as the race passed through northern France.\n\"The main issues come when cars or motorbikes have to pass the peloton and pass riders,\" Team Sky's Rowe said.\n\"That is the fundamental issue we're looking into.\n\"There's a lot of motorbikes in and around the race whether it be cameras for TV, photographers or police motorbikes.\n\"In total there's around 50 motorbikes that work on each race.\n\"We've got a riders union and we're coming together to think of a few ideas, whether we cap a speed limit on how fast they can overtake us.\n\"Say we put a 10 kilometres per hour limit on it, if we're going 50kph they're only allowed to pass us 60kph or something like that.\"\nDemoitie, who was riding for the Wanty-Gobert team, was taken to hospital in Lille but died later.\nThe sport's governing body, the UCI, said it would co-operate with all relevant authorities in an investigation into the incident.\nThe Professional Cyclists' Association (CPA) issued a statement asking what would be done to improve safety.\nDespite Demoitie's death, attitudes to road racing will stay the same says Rowe, who has been competing in Three Days of De Panne race in Belgium.\n\"As soon as that element of fear slips into your mind and you start thinking of things that could happen, that's when you're doomed to fail,\" he told BBC Wales Sport.\n\"If you start thinking about crashes and the consequences and what could potentially happen then you're never going to be at the front of the peloton and you're never going to win any races.\"\nIn a separate incident, another Belgian cyclist, Daan Myngheer, 22, died in hospital after suffering a heart attack during the first stage of the Criterium International in Corsica.",
         "Welsh cyclist Luke Rowe says changes to the sport must be made following the death of Antoine Demoitie.",
         "35932467"
        ],
        [
         "Gundogan, 26, told BBC Sport he \"can see the finishing line\" after tearing cruciate knee ligaments in December, but will not rush his return.\nThe German missed the 2014 World Cup following back surgery that kept him out for a year, and sat out Euro 2016 because of a dislocated kneecap.\nHe said: \"It is heavy mentally to accept that.\"\nGundogan will not be fit for the start of the Premier League season at Brighton on 12 August but said his recovery time is now being measured in \"weeks\" rather than months.\nHe told BBC Sport: \"It is really hard always to fall and fight your way back. You feel good and feel ready, then you get the next kick.\n\"The worst part is behind me now. I want to feel ready when I am fully back. I want to feel safe and confident. I don't mind if it is two weeks or six.\"\nGundogan made 15 appearances and scored five goals in his debut season for City following his £20m move from Borussia Dortmund.\nHe is eager to get on the field again and was impressed at the club's 4-1 win over Real Madrid in a pre-season game in Los Angeles on Wednesday.\nManager Pep Guardiola has made five new signings already this summer and continues to have an interest in Arsenal forward Alexis Sanchez and Monaco's Kylian Mbappe.\nGundogan said: \"Optimism for the season is big. It is huge, definitely.\n\"We felt that last year as well but it was a completely new experience for all of us. We know the Premier League a bit more now and can't wait for the season to start.\"\nCity complete their three-match tour of the United States against Tottenham in Nashville on Saturday.\nChelsea manager Antonio Conte said earlier this week he did not feel Tottenham were judged by the same standards as his own side, City and Manchester United.\nSpurs have had the advantage in their recent meetings with City, winning three and drawing one of their last four Premier League games.\nAnd Gundogan thinks they are a major threat.\nHe said: \"Tottenham are a great team. They have the style of football. They have young English players. Our experience last season shows it is really tough to beat them.\n\"They are really uncomfortable to play against.\n\"I am pretty sure, even if they will not say it loud, the people who know the Premier League know Tottenham are definitely a competitor for the title.\"",
         "Manchester City midfielder Ilkay Gundogan says it has been mentally tough to overcome a third major injury.",
         "40758845"
        ],
        [
         "The crash happened about 07:20 GMT at the junction of the A127 and Progress Road in Leigh-on-Sea, Essex.\nThe man, who police said is aged in his 20s, was treated at the scene for a head injury and suspected multiple fractures, the ambulance service said.\nHe was airlifted to the Royal London Hospital for further treatment.\nThe Southend-bound carriageway of the A127 was closed for about six hours while police conducted their initial inquiries.\nA spokeswoman for Essex Police said it was not possible comment to further as this time as the \"investigation is now being conducted by the IPCC\".",
         "A jogger has been hit by an unmarked police car responding to an emergency call, leaving him with \"serious life-changing injuries\".",
         "30358490"
        ]
       ],
       "datasetInfos": [],
       "dbfsResultPath": null,
       "isJsonSchema": true,
       "metadata": {},
       "overflow": false,
       "plotOptions": {
        "customPlotOptions": {},
        "displayType": "table",
        "pivotAggregation": null,
        "pivotColumns": null,
        "xColumns": null,
        "yColumns": null
       },
       "removedWidgets": [],
       "schema": [
        {
         "metadata": "{}",
         "name": "document",
         "type": "\"string\""
        },
        {
         "metadata": "{}",
         "name": "summary",
         "type": "\"string\""
        },
        {
         "metadata": "{}",
         "name": "id",
         "type": "\"string\""
        }
       ],
       "type": "table"
      }
     }
    }
   ],
   "source": [
    "xsum_dataset = load_dataset(\n",
    "    \"xsum\", version=\"1.2.0\", cache_dir=DA.paths.datasets\n",
    ")  # Note: We specify cache_dir to use predownloaded data.\n",
    "xsum_sample = xsum_dataset[\"train\"].select(range(10))\n",
    "display(xsum_sample.to_pandas())"
   ]
  },
  {
   "cell_type": "markdown",
   "metadata": {
    "application/vnd.databricks.v1+cell": {
     "cellMetadata": {},
     "inputWidgets": {},
     "nuid": "8a16a326-fa42-4365-8753-135afe10090d",
     "showTitle": false,
     "title": ""
    }
   },
   "source": [
    "Similarly to how we found and applied a model for summarization previously, fill in the missing parts below to create a pipeline using an existing LLM---but with a different model.  Then apply the pipeline to the sample batch of articles."
   ]
  },
  {
   "cell_type": "code",
   "execution_count": 0,
   "metadata": {
    "application/vnd.databricks.v1+cell": {
     "cellMetadata": {
      "byteLimit": 2048000,
      "rowLimit": 10000
     },
     "inputWidgets": {},
     "nuid": "96074752-681c-46f9-8670-17479c5ef9ab",
     "showTitle": false,
     "title": ""
    }
   },
   "outputs": [
    {
     "output_type": "display_data",
     "data": {
      "application/vnd.jupyter.widget-view+json": {
       "model_id": "516f126962bd405099025a3b84104b71",
       "version_major": 2,
       "version_minor": 0
      },
      "text/plain": [
       "Downloading (…)lve/main/config.json:   0%|          | 0.00/1.58k [00:00<?, ?B/s]"
      ]
     },
     "metadata": {}
    },
    {
     "output_type": "stream",
     "name": "stderr",
     "text": [
      "/databricks/python/lib/python3.10/site-packages/huggingface_hub/file_download.py:133: UserWarning: `huggingface_hub` cache-system uses symlinks by default to efficiently store duplicated files but your machine does not support them in /dbfs/mnt/dbacademy-datasets/large-language-models/v01. Caching files will still work but in a degraded version that might require more space on your disk. This warning can be disabled by setting the `HF_HUB_DISABLE_SYMLINKS_WARNING` environment variable. For more details, see https://huggingface.co/docs/huggingface_hub/how-to-cache#limitations.\n  warnings.warn(message)\n"
     ]
    },
    {
     "output_type": "display_data",
     "data": {
      "application/vnd.jupyter.widget-view+json": {
       "model_id": "ca7f3f1d269340b19ab6362a3d8d7d17",
       "version_major": 2,
       "version_minor": 0
      },
      "text/plain": [
       "Downloading pytorch_model.bin:   0%|          | 0.00/1.63G [00:00<?, ?B/s]"
      ]
     },
     "metadata": {}
    },
    {
     "output_type": "display_data",
     "data": {
      "application/vnd.jupyter.widget-view+json": {
       "model_id": "13f67d8ea64e46ff803440e2d86310ef",
       "version_major": 2,
       "version_minor": 0
      },
      "text/plain": [
       "Downloading (…)neration_config.json:   0%|          | 0.00/363 [00:00<?, ?B/s]"
      ]
     },
     "metadata": {}
    },
    {
     "output_type": "display_data",
     "data": {
      "application/vnd.jupyter.widget-view+json": {
       "model_id": "4329db95bf5645fe9aee68f81d172113",
       "version_major": 2,
       "version_minor": 0
      },
      "text/plain": [
       "Downloading (…)olve/main/vocab.json:   0%|          | 0.00/899k [00:00<?, ?B/s]"
      ]
     },
     "metadata": {}
    },
    {
     "output_type": "display_data",
     "data": {
      "application/vnd.jupyter.widget-view+json": {
       "model_id": "460e6cab0edb40739ba80d9f404fbf8d",
       "version_major": 2,
       "version_minor": 0
      },
      "text/plain": [
       "Downloading (…)olve/main/merges.txt:   0%|          | 0.00/456k [00:00<?, ?B/s]"
      ]
     },
     "metadata": {}
    },
    {
     "output_type": "display_data",
     "data": {
      "application/vnd.jupyter.widget-view+json": {
       "model_id": "3f8811a906b943b587efd9c34fc9590c",
       "version_major": 2,
       "version_minor": 0
      },
      "text/plain": [
       "Downloading (…)/main/tokenizer.json:   0%|          | 0.00/1.36M [00:00<?, ?B/s]"
      ]
     },
     "metadata": {}
    },
    {
     "output_type": "execute_result",
     "data": {
      "text/plain": [
       "[{'summary_text': 'Many roads in Peeblesshire remain badly affected by standing water. The full cost of damage in Newton Stewart is still being assessed. First Minister Nicola Sturgeon visited the area to inspect'},\n",
       " {'summary_text': 'Fire alarm went off at the Holiday Inn in Hope Street at about 04:20 BST. One of the tour groups is from Germany, the other from China and Taiwan. The driver of'},\n",
       " {'summary_text': 'Mercedes go half a second clear of Ferrari in qualifying. Sebastian Vettel will start third ahead of team-mate Kimi Raikkonen. Stoffel Vandoorne out-'},\n",
       " {'summary_text': 'John Edward Bates faces a total of 22 charges, including two counts of indecency with a child. The 67-year-old is accused of committing the offences between 1972 and 1989.'},\n",
       " {'summary_text': 'Patients and staff evacuated from Cerahpasa hospital after man threatens to shoot himself. Officers deployed to negotiate with the man, a young police officer. Incident comes amid tension in Istanbul'},\n",
       " {'summary_text': 'Rynard Landman and Ashton Hewitt score tries in either half. Chris Fusaro, Zander Fagerson and Junior Bulumakau also score tries. Simone Fav'},\n",
       " {'summary_text': 'Veronica Vanessa Chango-Alverez, 31, was killed and another man injured. Audi A3 struck them in Streatham High Road at 05:30 GMT on Saturday'},\n",
       " {'summary_text': 'The 25-year-old died after being hit by a motorbike during a race in Belgium. He was part of the Team Sky team competing in the Three Days of De Panne'},\n",
       " {'summary_text': 'Gundogan tore cruciate knee ligaments in December. The 26-year-old missed the 2014 World Cup after back surgery. He also missed Euro 2016 because of a disl'},\n",
       " {'summary_text': 'Crash happened at the junction of the A127 and Progress Road in Leigh-on-Sea, Essex. Man in his 20s airlifted to Royal London Hospital for further treatment.'}]"
      ]
     },
     "execution_count": 17,
     "metadata": {}
    }
   ],
   "source": [
    "# TODO\n",
    "\n",
    "# Constructor a summarization pipeline\n",
    "summarizer = pipeline(\n",
    "    task=\"summarization\",\n",
    "    model=\"facebook/bart-large-cnn\",\n",
    "    min_length=20,\n",
    "    max_length=40,\n",
    "    truncation=True,\n",
    "    model_kwargs={\"cache_dir\": DA.paths.datasets},\n",
    ")  # Note: We specify cache_dir to use predownloaded models.\n",
    "\n",
    "# Apply the pipeline to the batch of articles in `xsum_sample`\n",
    "summarization_results = summarizer(xsum_sample[\"document\"])\n",
    "summarization_results"
   ]
  },
  {
   "cell_type": "code",
   "execution_count": 0,
   "metadata": {
    "application/vnd.databricks.v1+cell": {
     "cellMetadata": {
      "byteLimit": 2048000,
      "rowLimit": 10000
     },
     "inputWidgets": {},
     "nuid": "0e3ad94e-da7d-41f9-83f6-6d2882fb2bde",
     "showTitle": false,
     "title": ""
    }
   },
   "outputs": [
    {
     "output_type": "stream",
     "name": "stdout",
     "text": [
      "\u001b[32mPASSED\u001b[0m: All tests passed for lesson1, question1\n\u001b[32mRESULTS RECORDED\u001b[0m: Click `Submit` when all questions are completed to log the results.\n"
     ]
    }
   ],
   "source": [
    "# Test your answer. DO NOT MODIFY THIS CELL.\n",
    "\n",
    "dbTestQuestion1_1(summarizer, summarization_results, xsum_sample[\"document\"])"
   ]
  },
  {
   "cell_type": "code",
   "execution_count": 0,
   "metadata": {
    "application/vnd.databricks.v1+cell": {
     "cellMetadata": {
      "byteLimit": 2048000,
      "rowLimit": 10000
     },
     "inputWidgets": {},
     "nuid": "1efae259-6f83-4a5f-ac7c-5f611fb1f12d",
     "showTitle": false,
     "title": ""
    }
   },
   "outputs": [
    {
     "output_type": "display_data",
     "data": {
      "application/vnd.databricks.v1+bamboolib_hint": "{\"pd.DataFrames\": [], \"version\": \"0.0.1\"}",
      "text/plain": []
     },
     "metadata": {}
    },
    {
     "output_type": "display_data",
     "data": {
      "text/html": [
       "<style scoped>\n",
       "  .table-result-container {\n",
       "    max-height: 300px;\n",
       "    overflow: auto;\n",
       "  }\n",
       "  table, th, td {\n",
       "    border: 1px solid black;\n",
       "    border-collapse: collapse;\n",
       "  }\n",
       "  th, td {\n",
       "    padding: 5px;\n",
       "  }\n",
       "  th {\n",
       "    text-align: left;\n",
       "  }\n",
       "</style><div class='table-result-container'><table class='table-result'><thead style='background-color: white'><tr><th>generated_summary</th><th>summary</th><th>document</th></tr></thead><tbody><tr><td>Many roads in Peeblesshire remain badly affected by standing water. The full cost of damage in Newton Stewart is still being assessed. First Minister Nicola Sturgeon visited the area to inspect</td><td>Clean-up operations are continuing across the Scottish Borders and Dumfries and Galloway after flooding caused by Storm Frank.</td><td>The full cost of damage in Newton Stewart, one of the areas worst affected, is still being assessed.\n",
       "Repair work is ongoing in Hawick and many roads in Peeblesshire remain badly affected by standing water.\n",
       "Trains on the west coast mainline face disruption due to damage at the Lamington Viaduct.\n",
       "Many businesses and householders were affected by flooding in Newton Stewart after the River Cree overflowed into the town.\n",
       "First Minister Nicola Sturgeon visited the area to inspect the damage.\n",
       "The waters breached a retaining wall, flooding many commercial properties on Victoria Street - the main shopping thoroughfare.\n",
       "Jeanette Tate, who owns the Cinnamon Cafe which was badly affected, said she could not fault the multi-agency response once the flood hit.\n",
       "However, she said more preventative work could have been carried out to ensure the retaining wall did not fail.\n",
       "\"It is difficult but I do think there is so much publicity for Dumfries and the Nith - and I totally appreciate that - but it is almost like we're neglected or forgotten,\" she said.\n",
       "\"That may not be true but it is perhaps my perspective over the last few days.\n",
       "\"Why were you not ready to help us a bit more when the warning and the alarm alerts had gone out?\"\n",
       "Meanwhile, a flood alert remains in place across the Borders because of the constant rain.\n",
       "Peebles was badly hit by problems, sparking calls to introduce more defences in the area.\n",
       "Scottish Borders Council has put a list on its website of the roads worst affected and drivers have been urged not to ignore closure signs.\n",
       "The Labour Party's deputy Scottish leader Alex Rowley was in Hawick on Monday to see the situation first hand.\n",
       "He said it was important to get the flood protection plan right but backed calls to speed up the process.\n",
       "\"I was quite taken aback by the amount of damage that has been done,\" he said.\n",
       "\"Obviously it is heart-breaking for people who have been forced out of their homes and the impact on businesses.\"\n",
       "He said it was important that \"immediate steps\" were taken to protect the areas most vulnerable and a clear timetable put in place for flood prevention plans.\n",
       "Have you been affected by flooding in Dumfries and Galloway or the Borders? Tell us about your experience of the situation and how it was handled. Email us on selkirk.news@bbc.co.uk or dumfries@bbc.co.uk.</td></tr><tr><td>Fire alarm went off at the Holiday Inn in Hope Street at about 04:20 BST. One of the tour groups is from Germany, the other from China and Taiwan. The driver of</td><td>Two tourist buses have been destroyed by fire in a suspected arson attack in Belfast city centre.</td><td>A fire alarm went off at the Holiday Inn in Hope Street at about 04:20 BST on Saturday and guests were asked to leave the hotel.\n",
       "As they gathered outside they saw the two buses, parked side-by-side in the car park, engulfed by flames.\n",
       "One of the tour groups is from Germany, the other from China and Taiwan. It was their first night in Northern Ireland.\n",
       "The driver of one of the buses said many of the passengers had left personal belongings on board and these had been destroyed.\n",
       "Both groups have organised replacement coaches and will begin their tour of the north coast later than they had planned.\n",
       "Police have appealed for information about the attack.\n",
       "Insp David Gibson said: \"It appears as though the fire started under one of the buses before spreading to the second.\n",
       "\"While the exact cause is still under investigation, it is thought that the fire was started deliberately.\"</td></tr><tr><td>Mercedes go half a second clear of Ferrari in qualifying. Sebastian Vettel will start third ahead of team-mate Kimi Raikkonen. Stoffel Vandoorne out-</td><td>Lewis Hamilton stormed to pole position at the Bahrain Grand Prix ahead of Mercedes team-mate Nico Rosberg.</td><td>Ferrari appeared in a position to challenge until the final laps, when the Mercedes stretched their legs to go half a second clear of the red cars.\n",
       "Sebastian Vettel will start third ahead of team-mate Kimi Raikkonen.\n",
       "The world champion subsequently escaped punishment for reversing in the pit lane, which could have seen him stripped of pole.\n",
       "But stewards only handed Hamilton a reprimand, after governing body the FIA said \"no clear instruction was given on where he should park\".\n",
       "Belgian Stoffel Vandoorne out-qualified McLaren team-mate Jenson Button on his Formula 1 debut.\n",
       "Vandoorne was 12th and Button 14th, complaining of a handling imbalance on his final lap but admitting the newcomer \"did a good job and I didn't\".\n",
       "Mercedes were wary of Ferrari's pace before qualifying after Vettel and Raikkonen finished one-two in final practice, and their concerns appeared to be well founded as the red cars mixed it with the silver through most of qualifying.\n",
       "After the first runs, Rosberg was ahead, with Vettel and Raikkonen splitting him from Hamilton, who made a mistake at the final corner on his first lap.\n",
       "But Hamilton saved his best for last, fastest in every sector of his final attempt, to beat Rosberg by just 0.077secs after the German had out-paced him throughout practice and in the first qualifying session.\n",
       "Vettel rued a mistake at the final corner on his last lap, but the truth is that with the gap at 0.517secs to Hamilton there was nothing he could have done.\n",
       "The gap suggests Mercedes are favourites for the race, even if Ferrari can be expected to push them.\n",
       "Vettel said: \"Last year we were very strong in the race and I think we are in good shape for tomorrow. We will try to give them a hard time.\"\n",
       "Vandoorne's preparations for his grand prix debut were far from ideal - he only found out he was racing on Thursday when FIA doctors declared Fernando Alonso unfit because of a broken rib sustained in his huge crash at the first race of the season in Australia two weeks ago.\n",
       "The Belgian rookie had to fly overnight from Japan, where he had been testing in the Super Formula car he races there, and arrived in Bahrain only hours before first practice on Friday.\n",
       "He also had a difficult final practice, missing all but the final quarter of the session because of a water leak.\n",
       "Button was quicker in the first qualifying session, but Vandoorne pipped him by 0.064secs when it mattered.\n",
       "The 24-year-old said: \"I knew after yesterday I had quite similar pace to Jenson and I knew if I improved a little bit I could maybe challenge him and even out-qualify him and that is what has happened.\n",
       "\"Jenson is a very good benchmark for me because he is a world champion and he is well known to the team so I am very satisfied with the qualifying.\"\n",
       "Button, who was 0.5secs quicker than Vandoorne in the first session, complained of oversteer on his final run in the second: \"Q1 was what I was expecting. Q2 he did a good job and I didn't. Very, very good job. We knew how quick he was.\"\n",
       "The controversial new elimination qualifying system was retained for this race despite teams voting at the first race in Australia to go back to the 2015 system.\n",
       "FIA president Jean Todt said earlier on Saturday that he \"felt it necessary to give new qualifying one more chance\", adding: \"We live in a world where there is too much over reaction.\"\n",
       "The system worked on the basis of mixing up the grid a little - Force India's Sergio Perez ended up out of position in 18th place after the team miscalculated the timing of his final run, leaving him not enough time to complete it before the elimination clock timed him out.\n",
       "But it will come in for more criticism as a result of lack of track action at the end of each session. There were three minutes at the end of the first session with no cars on the circuit, and the end of the second session was a similar damp squib.\n",
       "Only one car - Nico Hulkenberg's Force India - was out on the track with six minutes to go. The two Williams cars did go out in the final three minutes but were already through to Q3 and so nothing was at stake.\n",
       "The teams are meeting with Todt and F1 commercial boss Bernie Ecclestone on Sunday at noon local time to decide on what to do with qualifying for the rest of the season.\n",
       "Todt said he was \"optimistic\" they would be able to reach unanimous agreement on a change.\n",
       "\"We should listen to the people watching on TV,\" Rosberg said. \"If they are still unhappy, which I am sure they will be, we should change it.\"\n",
       "Red Bull's Daniel Ricciardo was fifth on the grid, ahead of the Williams cars of Valtteri Bottas and Felipe Massa and Force India's Nico Hulkenberg.\n",
       "Ricciardo's team-mate Daniil Kvyat was eliminated during the second session - way below the team's expectation - and the Renault of Brit Jolyon Palmer only managed 19th fastest.\n",
       "German Mercedes protege Pascal Wehrlein managed an excellent 16th in the Manor car.\n",
       "Bahrain GP qualifying results\n",
       "Bahrain GP coverage details</td></tr><tr><td>John Edward Bates faces a total of 22 charges, including two counts of indecency with a child. The 67-year-old is accused of committing the offences between 1972 and 1989.</td><td>A former Lincolnshire Police officer carried out a series of sex attacks on boys, a jury at Lincoln Crown Court was told.</td><td>John Edward Bates, formerly of Spalding, Lincolnshire, but now living in London, faces a total of 22 charges, including two counts of indecency with a child.\n",
       "The 67-year-old is accused of committing the offences between March 1972 and October 1989.\n",
       "Mr Bates denies all the charges.\n",
       "Grace Hale, prosecuting, told the jury that the allegations of sexual abuse were made by made by four male complainants and related to when Mr Bates was a scout leader in South Lincolnshire and Cambridgeshire.\n",
       "\"The defendant says nothing of that sort happened between himself and all these individuals. He says they are all fabricating their accounts and telling lies,\" said Mrs Hale.\n",
       "The prosecutor claimed Mr Bates invited one 15 year old to his home offering him the chance to look at cine films made at scout camps but then showed him pornographic films.\n",
       "She told the jury that the boy was then sexually abused leaving him confused and frightened.\n",
       "Mrs Hale said: \"The complainant's recollection is that on a number of occasions sexual acts would happen with the defendant either in the defendant's car or in his cottage.\"\n",
       "She told the jury a second boy was taken by Mr Bates for a weekend in London at the age of 13 or 14 and after visiting pubs he was later sexually abused.\n",
       "Mrs Hale said two boys from the Spalding group had also made complaints of being sexually abused.\n",
       "The jury has been told that Mr Bates was in the RAF before serving as a Lincolnshire Police officer between 1976 and 1983.\n",
       "The trial, which is expected to last two weeks, continues.</td></tr><tr><td>Patients and staff evacuated from Cerahpasa hospital after man threatens to shoot himself. Officers deployed to negotiate with the man, a young police officer. Incident comes amid tension in Istanbul</td><td>An armed man who locked himself into a room at a psychiatric hospital in Istanbul has ended his threat to kill himself, Turkish media report.</td><td>Patients and staff were evacuated from Cerahpasa hospital on Wednesday after a man receiving treatment at the clinic threatened to shoot himself and others.\n",
       "Officers were deployed to negotiate with the man, a young police officer.\n",
       "Earlier reports that the armed man had taken several people hostage proved incorrect.\n",
       "The chief consultant of Cerahpasa hospital, Zekayi Kutlubay, who was evacuated from the facility, said that there had been \"no hostage crises\", adding that the man was \"alone in the room\".\n",
       "Dr Kutlubay said that the man had been receiving psychiatric treatment for the past two years.\n",
       "He said that the hospital had previously submitted a report stating that the man should not be permitted to carry a gun.\n",
       "\"His firearm was taken away,\" Dr Kutlubay said, adding that the gun in the officer's possession on Wednesday was not his issued firearm.\n",
       "The incident comes amid tension in Istanbul following several attacks in crowded areas, including the deadly assault on the Reina nightclub on New Year's Eve which left 39 people dead.</td></tr><tr><td>Rynard Landman and Ashton Hewitt score tries in either half. Chris Fusaro, Zander Fagerson and Junior Bulumakau also score tries. Simone Fav</td><td>Defending Pro12 champions Glasgow Warriors bagged a late bonus-point victory over the Dragons despite a host of absentees and two yellow cards.</td><td>Simone Favaro got the crucial try with the last move of the game, following earlier touchdowns by Chris Fusaro, Zander Fagerson and Junior Bulumakau.\n",
       "Rynard Landman and Ashton Hewitt got a try in either half for the Dragons.\n",
       "Glasgow showed far superior strength in depth as they took control of a messy match in the second period.\n",
       "Home coach Gregor Townsend gave a debut to powerhouse Fijian-born Wallaby wing Taqele Naiyaravoro, and centre Alex Dunbar returned from long-term injury, while the Dragons gave first starts of the season to wing Aled Brew and hooker Elliot Dee.\n",
       "Glasgow lost hooker Pat McArthur to an early shoulder injury but took advantage of their first pressure when Rory Clegg slotted over a penalty on 12 minutes.\n",
       "It took 24 minutes for a disjointed game to produce a try as Sarel Pretorius sniped from close range and Landman forced his way over for Jason Tovey to convert - although it was the lock's last contribution as he departed with a chest injury shortly afterwards.\n",
       "Glasgow struck back when Fusaro drove over from a rolling maul on 35 minutes for Clegg to convert.\n",
       "But the Dragons levelled at 10-10 before half-time when Naiyaravoro was yellow-carded for an aerial tackle on Brew and Tovey slotted the easy goal.\n",
       "The visitors could not make the most of their one-man advantage after the break as their error count cost them dearly.\n",
       "It was Glasgow's bench experience that showed when Mike Blair's break led to a short-range score from teenage prop Fagerson, converted by Clegg.\n",
       "Debutant Favaro was the second home player to be sin-binned, on 63 minutes, but again the Warriors made light of it as replacement wing Bulumakau, a recruit from the Army, pounced to deftly hack through a bouncing ball for an opportunist try.\n",
       "The Dragons got back within striking range with some excellent combined handling putting Hewitt over unopposed after 72 minutes.\n",
       "However, Favaro became sinner-turned-saint as he got on the end of another effective rolling maul to earn his side the extra point with the last move of the game, Clegg converting.\n",
       "Dragons director of rugby Lyn Jones said: \"We're disappointed to have lost but our performance was a lot better [than against Leinster] and the game could have gone either way.\n",
       "\"Unfortunately too many errors behind the scrum cost us a great deal, though from where we were a fortnight ago in Dublin our workrate and desire was excellent.\n",
       "\"It was simply error count from individuals behind the scrum that cost us field position, it's not rocket science - they were correct in how they played and we had a few errors, that was the difference.\"\n",
       "Glasgow Warriors: Rory Hughes, Taqele Naiyaravoro, Alex Dunbar, Fraser Lyle, Lee Jones, Rory Clegg, Grayson Hart; Alex Allan, Pat MacArthur, Zander Fagerson, Rob Harley (capt), Scott Cummings, Hugh Blake, Chris Fusaro, Adam Ashe.\n",
       "Replacements: Fergus Scott, Jerry Yanuyanutawa, Mike Cusack, Greg Peterson, Simone Favaro, Mike Blair, Gregor Hunter, Junior Bulumakau.\n",
       "Dragons: Carl Meyer, Ashton Hewitt, Ross Wardle, Adam Warren, Aled Brew, Jason Tovey, Sarel Pretorius; Boris Stankovich, Elliot Dee, Brok Harris, Nick Crosswell, Rynard Landman (capt), Lewis Evans, Nic Cudd, Ed Jackson.\n",
       "Replacements: Rhys Buckley, Phil Price, Shaun Knight, Matthew Screech, Ollie Griffiths, Luc Jones, Charlie Davies, Nick Scott.</td></tr><tr><td>Veronica Vanessa Chango-Alverez, 31, was killed and another man injured. Audi A3 struck them in Streatham High Road at 05:30 GMT on Saturday</td><td>A man with links to a car that was involved in a fatal bus stop crash in south London is being sought by police.</td><td>Veronica Vanessa Chango-Alverez, 31, was killed and another man injured when an Audi A3 struck them in Streatham High Road at 05:30 GMT on Saturday.\n",
       "Ten minutes before the crash the car was in London Road, Croydon, when a Volkswagen Passat collided with a tree.\n",
       "Police want to trace Nathan Davis, 27, who they say has links to the Audi. The car was abandoned at the scene.\n",
       "Ms Chango-Alverez died from multiple injuries, a post-mortem examination found.\n",
       "No arrests have been made as yet, police said.\n",
       "Ms Chango-Alverez was staying at her mother's home in Streatham High Road.\n",
       "She was born in Ecuador and had lived in London for 13 years, BBC London reporter Gareth Furby said. At the time of the crash, she was on her way to work in a hotel.\n",
       "The remains of the bus stop, which was extensively damaged in the crash, have been removed.\n",
       "Flowers have been left at the site in tribute to the victim.\n",
       "A statement from her brother Kevin Raul Chango-Alverez said: \"My family has had its heart torn out, at this Christmas time, we will never be the same again.\n",
       "\"On Friday night we were together as a family with Veronica meeting her newly born nephew and preparing for Christmas.\n",
       "\"I last saw her alive as she left to go to work on Saturday morning, but moments later I was holding her hand as she passed away in the street.\"\n",
       "Describing the crash as \"horrific\" Det Insp Gordon Wallace, said: \"The family are devastated. The memory of this senseless death will be with them each time they leave their home.\n",
       "\"The driver fled the scene abandoning the grey Audi, which was extensively damaged.\n",
       "\"We are looking to speak to Mr Nathan Davis in relation to this collision.\"\n",
       "The 51-year-old man injured at the bus stop remains in a critical condition in hospital while the condition of the 29-year-old driver of the Volkswagen is now stable.</td></tr><tr><td>The 25-year-old died after being hit by a motorbike during a race in Belgium. He was part of the Team Sky team competing in the Three Days of De Panne</td><td>Welsh cyclist Luke Rowe says changes to the sport must be made following the death of Antoine Demoitie.</td><td>Belgian cyclist Demoitie died after a collision with a motorbike during Belgium's Gent-Wevelgem race.\n",
       "The 25-year-old was hit by the motorbike after several riders came down in a crash as the race passed through northern France.\n",
       "\"The main issues come when cars or motorbikes have to pass the peloton and pass riders,\" Team Sky's Rowe said.\n",
       "\"That is the fundamental issue we're looking into.\n",
       "\"There's a lot of motorbikes in and around the race whether it be cameras for TV, photographers or police motorbikes.\n",
       "\"In total there's around 50 motorbikes that work on each race.\n",
       "\"We've got a riders union and we're coming together to think of a few ideas, whether we cap a speed limit on how fast they can overtake us.\n",
       "\"Say we put a 10 kilometres per hour limit on it, if we're going 50kph they're only allowed to pass us 60kph or something like that.\"\n",
       "Demoitie, who was riding for the Wanty-Gobert team, was taken to hospital in Lille but died later.\n",
       "The sport's governing body, the UCI, said it would co-operate with all relevant authorities in an investigation into the incident.\n",
       "The Professional Cyclists' Association (CPA) issued a statement asking what would be done to improve safety.\n",
       "Despite Demoitie's death, attitudes to road racing will stay the same says Rowe, who has been competing in Three Days of De Panne race in Belgium.\n",
       "\"As soon as that element of fear slips into your mind and you start thinking of things that could happen, that's when you're doomed to fail,\" he told BBC Wales Sport.\n",
       "\"If you start thinking about crashes and the consequences and what could potentially happen then you're never going to be at the front of the peloton and you're never going to win any races.\"\n",
       "In a separate incident, another Belgian cyclist, Daan Myngheer, 22, died in hospital after suffering a heart attack during the first stage of the Criterium International in Corsica.</td></tr><tr><td>Gundogan tore cruciate knee ligaments in December. The 26-year-old missed the 2014 World Cup after back surgery. He also missed Euro 2016 because of a disl</td><td>Manchester City midfielder Ilkay Gundogan says it has been mentally tough to overcome a third major injury.</td><td>Gundogan, 26, told BBC Sport he \"can see the finishing line\" after tearing cruciate knee ligaments in December, but will not rush his return.\n",
       "The German missed the 2014 World Cup following back surgery that kept him out for a year, and sat out Euro 2016 because of a dislocated kneecap.\n",
       "He said: \"It is heavy mentally to accept that.\"\n",
       "Gundogan will not be fit for the start of the Premier League season at Brighton on 12 August but said his recovery time is now being measured in \"weeks\" rather than months.\n",
       "He told BBC Sport: \"It is really hard always to fall and fight your way back. You feel good and feel ready, then you get the next kick.\n",
       "\"The worst part is behind me now. I want to feel ready when I am fully back. I want to feel safe and confident. I don't mind if it is two weeks or six.\"\n",
       "Gundogan made 15 appearances and scored five goals in his debut season for City following his £20m move from Borussia Dortmund.\n",
       "He is eager to get on the field again and was impressed at the club's 4-1 win over Real Madrid in a pre-season game in Los Angeles on Wednesday.\n",
       "Manager Pep Guardiola has made five new signings already this summer and continues to have an interest in Arsenal forward Alexis Sanchez and Monaco's Kylian Mbappe.\n",
       "Gundogan said: \"Optimism for the season is big. It is huge, definitely.\n",
       "\"We felt that last year as well but it was a completely new experience for all of us. We know the Premier League a bit more now and can't wait for the season to start.\"\n",
       "City complete their three-match tour of the United States against Tottenham in Nashville on Saturday.\n",
       "Chelsea manager Antonio Conte said earlier this week he did not feel Tottenham were judged by the same standards as his own side, City and Manchester United.\n",
       "Spurs have had the advantage in their recent meetings with City, winning three and drawing one of their last four Premier League games.\n",
       "And Gundogan thinks they are a major threat.\n",
       "He said: \"Tottenham are a great team. They have the style of football. They have young English players. Our experience last season shows it is really tough to beat them.\n",
       "\"They are really uncomfortable to play against.\n",
       "\"I am pretty sure, even if they will not say it loud, the people who know the Premier League know Tottenham are definitely a competitor for the title.\"</td></tr><tr><td>Crash happened at the junction of the A127 and Progress Road in Leigh-on-Sea, Essex. Man in his 20s airlifted to Royal London Hospital for further treatment.</td><td>A jogger has been hit by an unmarked police car responding to an emergency call, leaving him with \"serious life-changing injuries\".</td><td>The crash happened about 07:20 GMT at the junction of the A127 and Progress Road in Leigh-on-Sea, Essex.\n",
       "The man, who police said is aged in his 20s, was treated at the scene for a head injury and suspected multiple fractures, the ambulance service said.\n",
       "He was airlifted to the Royal London Hospital for further treatment.\n",
       "The Southend-bound carriageway of the A127 was closed for about six hours while police conducted their initial inquiries.\n",
       "A spokeswoman for Essex Police said it was not possible comment to further as this time as the \"investigation is now being conducted by the IPCC\".</td></tr></tbody></table></div>"
      ]
     },
     "metadata": {
      "application/vnd.databricks.v1+output": {
       "addedWidgets": {},
       "aggData": [],
       "aggError": "",
       "aggOverflow": false,
       "aggSchema": [],
       "aggSeriesLimitReached": false,
       "aggType": "",
       "arguments": {},
       "columnCustomDisplayInfos": {},
       "data": [
        [
         "Many roads in Peeblesshire remain badly affected by standing water. The full cost of damage in Newton Stewart is still being assessed. First Minister Nicola Sturgeon visited the area to inspect",
         "Clean-up operations are continuing across the Scottish Borders and Dumfries and Galloway after flooding caused by Storm Frank.",
         "The full cost of damage in Newton Stewart, one of the areas worst affected, is still being assessed.\nRepair work is ongoing in Hawick and many roads in Peeblesshire remain badly affected by standing water.\nTrains on the west coast mainline face disruption due to damage at the Lamington Viaduct.\nMany businesses and householders were affected by flooding in Newton Stewart after the River Cree overflowed into the town.\nFirst Minister Nicola Sturgeon visited the area to inspect the damage.\nThe waters breached a retaining wall, flooding many commercial properties on Victoria Street - the main shopping thoroughfare.\nJeanette Tate, who owns the Cinnamon Cafe which was badly affected, said she could not fault the multi-agency response once the flood hit.\nHowever, she said more preventative work could have been carried out to ensure the retaining wall did not fail.\n\"It is difficult but I do think there is so much publicity for Dumfries and the Nith - and I totally appreciate that - but it is almost like we're neglected or forgotten,\" she said.\n\"That may not be true but it is perhaps my perspective over the last few days.\n\"Why were you not ready to help us a bit more when the warning and the alarm alerts had gone out?\"\nMeanwhile, a flood alert remains in place across the Borders because of the constant rain.\nPeebles was badly hit by problems, sparking calls to introduce more defences in the area.\nScottish Borders Council has put a list on its website of the roads worst affected and drivers have been urged not to ignore closure signs.\nThe Labour Party's deputy Scottish leader Alex Rowley was in Hawick on Monday to see the situation first hand.\nHe said it was important to get the flood protection plan right but backed calls to speed up the process.\n\"I was quite taken aback by the amount of damage that has been done,\" he said.\n\"Obviously it is heart-breaking for people who have been forced out of their homes and the impact on businesses.\"\nHe said it was important that \"immediate steps\" were taken to protect the areas most vulnerable and a clear timetable put in place for flood prevention plans.\nHave you been affected by flooding in Dumfries and Galloway or the Borders? Tell us about your experience of the situation and how it was handled. Email us on selkirk.news@bbc.co.uk or dumfries@bbc.co.uk."
        ],
        [
         "Fire alarm went off at the Holiday Inn in Hope Street at about 04:20 BST. One of the tour groups is from Germany, the other from China and Taiwan. The driver of",
         "Two tourist buses have been destroyed by fire in a suspected arson attack in Belfast city centre.",
         "A fire alarm went off at the Holiday Inn in Hope Street at about 04:20 BST on Saturday and guests were asked to leave the hotel.\nAs they gathered outside they saw the two buses, parked side-by-side in the car park, engulfed by flames.\nOne of the tour groups is from Germany, the other from China and Taiwan. It was their first night in Northern Ireland.\nThe driver of one of the buses said many of the passengers had left personal belongings on board and these had been destroyed.\nBoth groups have organised replacement coaches and will begin their tour of the north coast later than they had planned.\nPolice have appealed for information about the attack.\nInsp David Gibson said: \"It appears as though the fire started under one of the buses before spreading to the second.\n\"While the exact cause is still under investigation, it is thought that the fire was started deliberately.\""
        ],
        [
         "Mercedes go half a second clear of Ferrari in qualifying. Sebastian Vettel will start third ahead of team-mate Kimi Raikkonen. Stoffel Vandoorne out-",
         "Lewis Hamilton stormed to pole position at the Bahrain Grand Prix ahead of Mercedes team-mate Nico Rosberg.",
         "Ferrari appeared in a position to challenge until the final laps, when the Mercedes stretched their legs to go half a second clear of the red cars.\nSebastian Vettel will start third ahead of team-mate Kimi Raikkonen.\nThe world champion subsequently escaped punishment for reversing in the pit lane, which could have seen him stripped of pole.\nBut stewards only handed Hamilton a reprimand, after governing body the FIA said \"no clear instruction was given on where he should park\".\nBelgian Stoffel Vandoorne out-qualified McLaren team-mate Jenson Button on his Formula 1 debut.\nVandoorne was 12th and Button 14th, complaining of a handling imbalance on his final lap but admitting the newcomer \"did a good job and I didn't\".\nMercedes were wary of Ferrari's pace before qualifying after Vettel and Raikkonen finished one-two in final practice, and their concerns appeared to be well founded as the red cars mixed it with the silver through most of qualifying.\nAfter the first runs, Rosberg was ahead, with Vettel and Raikkonen splitting him from Hamilton, who made a mistake at the final corner on his first lap.\nBut Hamilton saved his best for last, fastest in every sector of his final attempt, to beat Rosberg by just 0.077secs after the German had out-paced him throughout practice and in the first qualifying session.\nVettel rued a mistake at the final corner on his last lap, but the truth is that with the gap at 0.517secs to Hamilton there was nothing he could have done.\nThe gap suggests Mercedes are favourites for the race, even if Ferrari can be expected to push them.\nVettel said: \"Last year we were very strong in the race and I think we are in good shape for tomorrow. We will try to give them a hard time.\"\nVandoorne's preparations for his grand prix debut were far from ideal - he only found out he was racing on Thursday when FIA doctors declared Fernando Alonso unfit because of a broken rib sustained in his huge crash at the first race of the season in Australia two weeks ago.\nThe Belgian rookie had to fly overnight from Japan, where he had been testing in the Super Formula car he races there, and arrived in Bahrain only hours before first practice on Friday.\nHe also had a difficult final practice, missing all but the final quarter of the session because of a water leak.\nButton was quicker in the first qualifying session, but Vandoorne pipped him by 0.064secs when it mattered.\nThe 24-year-old said: \"I knew after yesterday I had quite similar pace to Jenson and I knew if I improved a little bit I could maybe challenge him and even out-qualify him and that is what has happened.\n\"Jenson is a very good benchmark for me because he is a world champion and he is well known to the team so I am very satisfied with the qualifying.\"\nButton, who was 0.5secs quicker than Vandoorne in the first session, complained of oversteer on his final run in the second: \"Q1 was what I was expecting. Q2 he did a good job and I didn't. Very, very good job. We knew how quick he was.\"\nThe controversial new elimination qualifying system was retained for this race despite teams voting at the first race in Australia to go back to the 2015 system.\nFIA president Jean Todt said earlier on Saturday that he \"felt it necessary to give new qualifying one more chance\", adding: \"We live in a world where there is too much over reaction.\"\nThe system worked on the basis of mixing up the grid a little - Force India's Sergio Perez ended up out of position in 18th place after the team miscalculated the timing of his final run, leaving him not enough time to complete it before the elimination clock timed him out.\nBut it will come in for more criticism as a result of lack of track action at the end of each session. There were three minutes at the end of the first session with no cars on the circuit, and the end of the second session was a similar damp squib.\nOnly one car - Nico Hulkenberg's Force India - was out on the track with six minutes to go. The two Williams cars did go out in the final three minutes but were already through to Q3 and so nothing was at stake.\nThe teams are meeting with Todt and F1 commercial boss Bernie Ecclestone on Sunday at noon local time to decide on what to do with qualifying for the rest of the season.\nTodt said he was \"optimistic\" they would be able to reach unanimous agreement on a change.\n\"We should listen to the people watching on TV,\" Rosberg said. \"If they are still unhappy, which I am sure they will be, we should change it.\"\nRed Bull's Daniel Ricciardo was fifth on the grid, ahead of the Williams cars of Valtteri Bottas and Felipe Massa and Force India's Nico Hulkenberg.\nRicciardo's team-mate Daniil Kvyat was eliminated during the second session - way below the team's expectation - and the Renault of Brit Jolyon Palmer only managed 19th fastest.\nGerman Mercedes protege Pascal Wehrlein managed an excellent 16th in the Manor car.\nBahrain GP qualifying results\nBahrain GP coverage details"
        ],
        [
         "John Edward Bates faces a total of 22 charges, including two counts of indecency with a child. The 67-year-old is accused of committing the offences between 1972 and 1989.",
         "A former Lincolnshire Police officer carried out a series of sex attacks on boys, a jury at Lincoln Crown Court was told.",
         "John Edward Bates, formerly of Spalding, Lincolnshire, but now living in London, faces a total of 22 charges, including two counts of indecency with a child.\nThe 67-year-old is accused of committing the offences between March 1972 and October 1989.\nMr Bates denies all the charges.\nGrace Hale, prosecuting, told the jury that the allegations of sexual abuse were made by made by four male complainants and related to when Mr Bates was a scout leader in South Lincolnshire and Cambridgeshire.\n\"The defendant says nothing of that sort happened between himself and all these individuals. He says they are all fabricating their accounts and telling lies,\" said Mrs Hale.\nThe prosecutor claimed Mr Bates invited one 15 year old to his home offering him the chance to look at cine films made at scout camps but then showed him pornographic films.\nShe told the jury that the boy was then sexually abused leaving him confused and frightened.\nMrs Hale said: \"The complainant's recollection is that on a number of occasions sexual acts would happen with the defendant either in the defendant's car or in his cottage.\"\nShe told the jury a second boy was taken by Mr Bates for a weekend in London at the age of 13 or 14 and after visiting pubs he was later sexually abused.\nMrs Hale said two boys from the Spalding group had also made complaints of being sexually abused.\nThe jury has been told that Mr Bates was in the RAF before serving as a Lincolnshire Police officer between 1976 and 1983.\nThe trial, which is expected to last two weeks, continues."
        ],
        [
         "Patients and staff evacuated from Cerahpasa hospital after man threatens to shoot himself. Officers deployed to negotiate with the man, a young police officer. Incident comes amid tension in Istanbul",
         "An armed man who locked himself into a room at a psychiatric hospital in Istanbul has ended his threat to kill himself, Turkish media report.",
         "Patients and staff were evacuated from Cerahpasa hospital on Wednesday after a man receiving treatment at the clinic threatened to shoot himself and others.\nOfficers were deployed to negotiate with the man, a young police officer.\nEarlier reports that the armed man had taken several people hostage proved incorrect.\nThe chief consultant of Cerahpasa hospital, Zekayi Kutlubay, who was evacuated from the facility, said that there had been \"no hostage crises\", adding that the man was \"alone in the room\".\nDr Kutlubay said that the man had been receiving psychiatric treatment for the past two years.\nHe said that the hospital had previously submitted a report stating that the man should not be permitted to carry a gun.\n\"His firearm was taken away,\" Dr Kutlubay said, adding that the gun in the officer's possession on Wednesday was not his issued firearm.\nThe incident comes amid tension in Istanbul following several attacks in crowded areas, including the deadly assault on the Reina nightclub on New Year's Eve which left 39 people dead."
        ],
        [
         "Rynard Landman and Ashton Hewitt score tries in either half. Chris Fusaro, Zander Fagerson and Junior Bulumakau also score tries. Simone Fav",
         "Defending Pro12 champions Glasgow Warriors bagged a late bonus-point victory over the Dragons despite a host of absentees and two yellow cards.",
         "Simone Favaro got the crucial try with the last move of the game, following earlier touchdowns by Chris Fusaro, Zander Fagerson and Junior Bulumakau.\nRynard Landman and Ashton Hewitt got a try in either half for the Dragons.\nGlasgow showed far superior strength in depth as they took control of a messy match in the second period.\nHome coach Gregor Townsend gave a debut to powerhouse Fijian-born Wallaby wing Taqele Naiyaravoro, and centre Alex Dunbar returned from long-term injury, while the Dragons gave first starts of the season to wing Aled Brew and hooker Elliot Dee.\nGlasgow lost hooker Pat McArthur to an early shoulder injury but took advantage of their first pressure when Rory Clegg slotted over a penalty on 12 minutes.\nIt took 24 minutes for a disjointed game to produce a try as Sarel Pretorius sniped from close range and Landman forced his way over for Jason Tovey to convert - although it was the lock's last contribution as he departed with a chest injury shortly afterwards.\nGlasgow struck back when Fusaro drove over from a rolling maul on 35 minutes for Clegg to convert.\nBut the Dragons levelled at 10-10 before half-time when Naiyaravoro was yellow-carded for an aerial tackle on Brew and Tovey slotted the easy goal.\nThe visitors could not make the most of their one-man advantage after the break as their error count cost them dearly.\nIt was Glasgow's bench experience that showed when Mike Blair's break led to a short-range score from teenage prop Fagerson, converted by Clegg.\nDebutant Favaro was the second home player to be sin-binned, on 63 minutes, but again the Warriors made light of it as replacement wing Bulumakau, a recruit from the Army, pounced to deftly hack through a bouncing ball for an opportunist try.\nThe Dragons got back within striking range with some excellent combined handling putting Hewitt over unopposed after 72 minutes.\nHowever, Favaro became sinner-turned-saint as he got on the end of another effective rolling maul to earn his side the extra point with the last move of the game, Clegg converting.\nDragons director of rugby Lyn Jones said: \"We're disappointed to have lost but our performance was a lot better [than against Leinster] and the game could have gone either way.\n\"Unfortunately too many errors behind the scrum cost us a great deal, though from where we were a fortnight ago in Dublin our workrate and desire was excellent.\n\"It was simply error count from individuals behind the scrum that cost us field position, it's not rocket science - they were correct in how they played and we had a few errors, that was the difference.\"\nGlasgow Warriors: Rory Hughes, Taqele Naiyaravoro, Alex Dunbar, Fraser Lyle, Lee Jones, Rory Clegg, Grayson Hart; Alex Allan, Pat MacArthur, Zander Fagerson, Rob Harley (capt), Scott Cummings, Hugh Blake, Chris Fusaro, Adam Ashe.\nReplacements: Fergus Scott, Jerry Yanuyanutawa, Mike Cusack, Greg Peterson, Simone Favaro, Mike Blair, Gregor Hunter, Junior Bulumakau.\nDragons: Carl Meyer, Ashton Hewitt, Ross Wardle, Adam Warren, Aled Brew, Jason Tovey, Sarel Pretorius; Boris Stankovich, Elliot Dee, Brok Harris, Nick Crosswell, Rynard Landman (capt), Lewis Evans, Nic Cudd, Ed Jackson.\nReplacements: Rhys Buckley, Phil Price, Shaun Knight, Matthew Screech, Ollie Griffiths, Luc Jones, Charlie Davies, Nick Scott."
        ],
        [
         "Veronica Vanessa Chango-Alverez, 31, was killed and another man injured. Audi A3 struck them in Streatham High Road at 05:30 GMT on Saturday",
         "A man with links to a car that was involved in a fatal bus stop crash in south London is being sought by police.",
         "Veronica Vanessa Chango-Alverez, 31, was killed and another man injured when an Audi A3 struck them in Streatham High Road at 05:30 GMT on Saturday.\nTen minutes before the crash the car was in London Road, Croydon, when a Volkswagen Passat collided with a tree.\nPolice want to trace Nathan Davis, 27, who they say has links to the Audi. The car was abandoned at the scene.\nMs Chango-Alverez died from multiple injuries, a post-mortem examination found.\nNo arrests have been made as yet, police said.\nMs Chango-Alverez was staying at her mother's home in Streatham High Road.\nShe was born in Ecuador and had lived in London for 13 years, BBC London reporter Gareth Furby said. At the time of the crash, she was on her way to work in a hotel.\nThe remains of the bus stop, which was extensively damaged in the crash, have been removed.\nFlowers have been left at the site in tribute to the victim.\nA statement from her brother Kevin Raul Chango-Alverez said: \"My family has had its heart torn out, at this Christmas time, we will never be the same again.\n\"On Friday night we were together as a family with Veronica meeting her newly born nephew and preparing for Christmas.\n\"I last saw her alive as she left to go to work on Saturday morning, but moments later I was holding her hand as she passed away in the street.\"\nDescribing the crash as \"horrific\" Det Insp Gordon Wallace, said: \"The family are devastated. The memory of this senseless death will be with them each time they leave their home.\n\"The driver fled the scene abandoning the grey Audi, which was extensively damaged.\n\"We are looking to speak to Mr Nathan Davis in relation to this collision.\"\nThe 51-year-old man injured at the bus stop remains in a critical condition in hospital while the condition of the 29-year-old driver of the Volkswagen is now stable."
        ],
        [
         "The 25-year-old died after being hit by a motorbike during a race in Belgium. He was part of the Team Sky team competing in the Three Days of De Panne",
         "Welsh cyclist Luke Rowe says changes to the sport must be made following the death of Antoine Demoitie.",
         "Belgian cyclist Demoitie died after a collision with a motorbike during Belgium's Gent-Wevelgem race.\nThe 25-year-old was hit by the motorbike after several riders came down in a crash as the race passed through northern France.\n\"The main issues come when cars or motorbikes have to pass the peloton and pass riders,\" Team Sky's Rowe said.\n\"That is the fundamental issue we're looking into.\n\"There's a lot of motorbikes in and around the race whether it be cameras for TV, photographers or police motorbikes.\n\"In total there's around 50 motorbikes that work on each race.\n\"We've got a riders union and we're coming together to think of a few ideas, whether we cap a speed limit on how fast they can overtake us.\n\"Say we put a 10 kilometres per hour limit on it, if we're going 50kph they're only allowed to pass us 60kph or something like that.\"\nDemoitie, who was riding for the Wanty-Gobert team, was taken to hospital in Lille but died later.\nThe sport's governing body, the UCI, said it would co-operate with all relevant authorities in an investigation into the incident.\nThe Professional Cyclists' Association (CPA) issued a statement asking what would be done to improve safety.\nDespite Demoitie's death, attitudes to road racing will stay the same says Rowe, who has been competing in Three Days of De Panne race in Belgium.\n\"As soon as that element of fear slips into your mind and you start thinking of things that could happen, that's when you're doomed to fail,\" he told BBC Wales Sport.\n\"If you start thinking about crashes and the consequences and what could potentially happen then you're never going to be at the front of the peloton and you're never going to win any races.\"\nIn a separate incident, another Belgian cyclist, Daan Myngheer, 22, died in hospital after suffering a heart attack during the first stage of the Criterium International in Corsica."
        ],
        [
         "Gundogan tore cruciate knee ligaments in December. The 26-year-old missed the 2014 World Cup after back surgery. He also missed Euro 2016 because of a disl",
         "Manchester City midfielder Ilkay Gundogan says it has been mentally tough to overcome a third major injury.",
         "Gundogan, 26, told BBC Sport he \"can see the finishing line\" after tearing cruciate knee ligaments in December, but will not rush his return.\nThe German missed the 2014 World Cup following back surgery that kept him out for a year, and sat out Euro 2016 because of a dislocated kneecap.\nHe said: \"It is heavy mentally to accept that.\"\nGundogan will not be fit for the start of the Premier League season at Brighton on 12 August but said his recovery time is now being measured in \"weeks\" rather than months.\nHe told BBC Sport: \"It is really hard always to fall and fight your way back. You feel good and feel ready, then you get the next kick.\n\"The worst part is behind me now. I want to feel ready when I am fully back. I want to feel safe and confident. I don't mind if it is two weeks or six.\"\nGundogan made 15 appearances and scored five goals in his debut season for City following his £20m move from Borussia Dortmund.\nHe is eager to get on the field again and was impressed at the club's 4-1 win over Real Madrid in a pre-season game in Los Angeles on Wednesday.\nManager Pep Guardiola has made five new signings already this summer and continues to have an interest in Arsenal forward Alexis Sanchez and Monaco's Kylian Mbappe.\nGundogan said: \"Optimism for the season is big. It is huge, definitely.\n\"We felt that last year as well but it was a completely new experience for all of us. We know the Premier League a bit more now and can't wait for the season to start.\"\nCity complete their three-match tour of the United States against Tottenham in Nashville on Saturday.\nChelsea manager Antonio Conte said earlier this week he did not feel Tottenham were judged by the same standards as his own side, City and Manchester United.\nSpurs have had the advantage in their recent meetings with City, winning three and drawing one of their last four Premier League games.\nAnd Gundogan thinks they are a major threat.\nHe said: \"Tottenham are a great team. They have the style of football. They have young English players. Our experience last season shows it is really tough to beat them.\n\"They are really uncomfortable to play against.\n\"I am pretty sure, even if they will not say it loud, the people who know the Premier League know Tottenham are definitely a competitor for the title.\""
        ],
        [
         "Crash happened at the junction of the A127 and Progress Road in Leigh-on-Sea, Essex. Man in his 20s airlifted to Royal London Hospital for further treatment.",
         "A jogger has been hit by an unmarked police car responding to an emergency call, leaving him with \"serious life-changing injuries\".",
         "The crash happened about 07:20 GMT at the junction of the A127 and Progress Road in Leigh-on-Sea, Essex.\nThe man, who police said is aged in his 20s, was treated at the scene for a head injury and suspected multiple fractures, the ambulance service said.\nHe was airlifted to the Royal London Hospital for further treatment.\nThe Southend-bound carriageway of the A127 was closed for about six hours while police conducted their initial inquiries.\nA spokeswoman for Essex Police said it was not possible comment to further as this time as the \"investigation is now being conducted by the IPCC\"."
        ]
       ],
       "datasetInfos": [],
       "dbfsResultPath": null,
       "isJsonSchema": true,
       "metadata": {},
       "overflow": false,
       "plotOptions": {
        "customPlotOptions": {},
        "displayType": "table",
        "pivotAggregation": null,
        "pivotColumns": null,
        "xColumns": null,
        "yColumns": null
       },
       "removedWidgets": [],
       "schema": [
        {
         "metadata": "{}",
         "name": "generated_summary",
         "type": "\"string\""
        },
        {
         "metadata": "{}",
         "name": "summary",
         "type": "\"string\""
        },
        {
         "metadata": "{}",
         "name": "document",
         "type": "\"string\""
        }
       ],
       "type": "table"
      }
     }
    }
   ],
   "source": [
    "# Display the generated summary side-by-side with the reference summary and original document.\n",
    "import pandas as pd\n",
    "\n",
    "display(\n",
    "    pd.DataFrame.from_dict(summarization_results)\n",
    "    .rename({\"summary_text\": \"generated_summary\"}, axis=1)\n",
    "    .join(pd.DataFrame.from_dict(xsum_sample))[\n",
    "        [\"generated_summary\", \"summary\", \"document\"]\n",
    "    ]\n",
    ")"
   ]
  },
  {
   "cell_type": "markdown",
   "metadata": {
    "application/vnd.databricks.v1+cell": {
     "cellMetadata": {},
     "inputWidgets": {},
     "nuid": "6cc2cbb7-38a6-462b-a87b-7809f3627535",
     "showTitle": false,
     "title": ""
    }
   },
   "source": [
    "### Question 2: Translation\n",
    "\n",
    "In this section, you will find a model from the Hugging Face Hub for a new translation problem.\n",
    "\n",
    "We will use the [Helsinki-NLP/tatoeba_mt](https://huggingface.co/datasets/Helsinki-NLP/tatoeba_mt) dataset.  It includes sentence pairs from many languages, but we will focus on translating Japanese to English.\n",
    "\n",
    "If you feel stuck, please refer to the hints at the end of this section."
   ]
  },
  {
   "cell_type": "code",
   "execution_count": 0,
   "metadata": {
    "application/vnd.databricks.v1+cell": {
     "cellMetadata": {
      "byteLimit": 2048000,
      "rowLimit": 10000
     },
     "inputWidgets": {},
     "nuid": "9cce0a12-a2a1-4b05-bd37-fdef6df1e3cf",
     "showTitle": false,
     "title": ""
    }
   },
   "outputs": [
    {
     "output_type": "stream",
     "name": "stderr",
     "text": [
      "/databricks/python_shell/dbruntime/huggingface_patches/datasets.py:13: UserWarning: During large dataset downloads, there could be multiple progress bar widgets that can cause performance issues for your notebook or browser. To avoid these issues, use `datasets.utils.logging.disable_progress_bar()` to turn off the progress bars.\n  warnings.warn(\n"
     ]
    },
    {
     "output_type": "display_data",
     "data": {
      "application/vnd.jupyter.widget-view+json": {
       "model_id": "0b3f380c557345e3b806a0409fd54f67",
       "version_major": 2,
       "version_minor": 0
      },
      "text/plain": [
       "Downloading builder script:   0%|          | 0.00/15.5k [00:00<?, ?B/s]"
      ]
     },
     "metadata": {}
    },
    {
     "output_type": "display_data",
     "data": {
      "application/vnd.jupyter.widget-view+json": {
       "model_id": "b2e34c65731c4c1ca4f4018499692a32",
       "version_major": 2,
       "version_minor": 0
      },
      "text/plain": [
       "Downloading metadata:   0%|          | 0.00/1.96M [00:00<?, ?B/s]"
      ]
     },
     "metadata": {}
    },
    {
     "output_type": "display_data",
     "data": {
      "application/vnd.jupyter.widget-view+json": {
       "model_id": "2057cf3dc66241b794654d9c8a3f177e",
       "version_major": 2,
       "version_minor": 0
      },
      "text/plain": [
       "Downloading readme:   0%|          | 0.00/12.1k [00:00<?, ?B/s]"
      ]
     },
     "metadata": {}
    },
    {
     "output_type": "stream",
     "name": "stderr",
     "text": [
      "Found cached dataset tatoeba_mt (/dbfs/mnt/dbacademy-datasets/large-language-models/v01/Helsinki-NLP___tatoeba_mt/default-language_pair=eng-jpn/1.0.0/01e819f3f64a772a2ca70949061d295d3a2dc99d05183fe4776a3be23f75f619)\n"
     ]
    },
    {
     "output_type": "display_data",
     "data": {
      "application/vnd.jupyter.widget-view+json": {
       "model_id": "376e85c341c04dd7ac730adf9ba8e545",
       "version_major": 2,
       "version_minor": 0
      },
      "text/plain": [
       "  0%|          | 0/2 [00:00<?, ?it/s]"
      ]
     },
     "metadata": {}
    },
    {
     "output_type": "display_data",
     "data": {
      "text/html": [
       "<style scoped>\n",
       "  .table-result-container {\n",
       "    max-height: 300px;\n",
       "    overflow: auto;\n",
       "  }\n",
       "  table, th, td {\n",
       "    border: 1px solid black;\n",
       "    border-collapse: collapse;\n",
       "  }\n",
       "  th, td {\n",
       "    padding: 5px;\n",
       "  }\n",
       "  th {\n",
       "    text-align: left;\n",
       "  }\n",
       "</style><div class='table-result-container'><table class='table-result'><thead style='background-color: white'><tr><th>English</th><th>Japanese</th></tr></thead><tbody><tr><td>Wait thirty minutes.</td><td>３０分待ってて。</td></tr><tr><td>You're five years old.</td><td>君は5歳だ。</td></tr><tr><td>Did you watch the video? \"Some of it.\"</td><td>「ビデオ見た？」「少しだけね」</td></tr><tr><td>Good Idea!</td><td>名案だ。</td></tr><tr><td>Good night, Tom. \"Good night, Mary.\"</td><td>「トム、おやすみなさい」「メアリー、おやすみ」</td></tr><tr><td>Oh, I see!</td><td>ああ、なるほど！</td></tr><tr><td>That guy is gross.</td><td>あいつ、キモイな。</td></tr><tr><td>Tom! \"What?\"</td><td>「トム！」「え？」</td></tr><tr><td>Tom! \"What?\"</td><td>「トム！」「なに？」</td></tr><tr><td>Where are you? \"I’m here.\"</td><td>「どこにいるの？」「ここだよ」</td></tr></tbody></table></div>"
      ]
     },
     "metadata": {
      "application/vnd.databricks.v1+output": {
       "addedWidgets": {},
       "aggData": [],
       "aggError": "",
       "aggOverflow": false,
       "aggSchema": [],
       "aggSeriesLimitReached": false,
       "aggType": "",
       "arguments": {},
       "columnCustomDisplayInfos": {},
       "data": [
        [
         "Wait thirty minutes.",
         "３０分待ってて。"
        ],
        [
         "You're five years old.",
         "君は5歳だ。"
        ],
        [
         "Did you watch the video? \"Some of it.\"",
         "「ビデオ見た？」「少しだけね」"
        ],
        [
         "Good Idea!",
         "名案だ。"
        ],
        [
         "Good night, Tom. \"Good night, Mary.\"",
         "「トム、おやすみなさい」「メアリー、おやすみ」"
        ],
        [
         "Oh, I see!",
         "ああ、なるほど！"
        ],
        [
         "That guy is gross.",
         "あいつ、キモイな。"
        ],
        [
         "Tom! \"What?\"",
         "「トム！」「え？」"
        ],
        [
         "Tom! \"What?\"",
         "「トム！」「なに？」"
        ],
        [
         "Where are you? \"I’m here.\"",
         "「どこにいるの？」「ここだよ」"
        ]
       ],
       "datasetInfos": [],
       "dbfsResultPath": null,
       "isJsonSchema": true,
       "metadata": {},
       "overflow": false,
       "plotOptions": {
        "customPlotOptions": {},
        "displayType": "table",
        "pivotAggregation": null,
        "pivotColumns": null,
        "xColumns": null,
        "yColumns": null
       },
       "removedWidgets": [],
       "schema": [
        {
         "metadata": "{}",
         "name": "English",
         "type": "\"string\""
        },
        {
         "metadata": "{}",
         "name": "Japanese",
         "type": "\"string\""
        }
       ],
       "type": "table"
      }
     }
    }
   ],
   "source": [
    "jpn_dataset = load_dataset(\n",
    "    \"Helsinki-NLP/tatoeba_mt\",\n",
    "    version=\"1.0.0\",\n",
    "    language_pair=\"eng-jpn\",\n",
    "    cache_dir=DA.paths.datasets,\n",
    ")\n",
    "jpn_sample = (\n",
    "    jpn_dataset[\"test\"]\n",
    "    .select(range(10))\n",
    "    .rename_column(\"sourceString\", \"English\")\n",
    "    .rename_column(\"targetString\", \"Japanese\")\n",
    "    .remove_columns([\"sourceLang\", \"targetlang\"])\n",
    ")\n",
    "display(jpn_sample.to_pandas())"
   ]
  },
  {
   "cell_type": "markdown",
   "metadata": {
    "application/vnd.databricks.v1+cell": {
     "cellMetadata": {},
     "inputWidgets": {},
     "nuid": "341917e8-23ef-4896-86d7-46ae403f0d97",
     "showTitle": false,
     "title": ""
    }
   },
   "source": [
    "Similarly to how we previously found and applied a model for translation among other languages, you must now find a model to translate from Japanese to English.  Fill in the missing parts below to create a pipeline using an existing LLM.  Then apply the pipeline to the sample batch of Japanese sentences."
   ]
  },
  {
   "cell_type": "code",
   "execution_count": 0,
   "metadata": {
    "application/vnd.databricks.v1+cell": {
     "cellMetadata": {
      "byteLimit": 2048000,
      "rowLimit": 10000
     },
     "inputWidgets": {},
     "nuid": "fa9bc3b0-b50d-45f0-9161-1de137cea0f2",
     "showTitle": false,
     "title": ""
    }
   },
   "outputs": [
    {
     "output_type": "display_data",
     "data": {
      "application/vnd.jupyter.widget-view+json": {
       "model_id": "e55577a3c5034eddb516047a0c2c2622",
       "version_major": 2,
       "version_minor": 0
      },
      "text/plain": [
       "Downloading (…)lve/main/config.json:   0%|          | 0.00/846 [00:00<?, ?B/s]"
      ]
     },
     "metadata": {}
    },
    {
     "output_type": "display_data",
     "data": {
      "application/vnd.jupyter.widget-view+json": {
       "model_id": "7f6c833264b14c38ae79254395b7f941",
       "version_major": 2,
       "version_minor": 0
      },
      "text/plain": [
       "Downloading pytorch_model.bin:   0%|          | 0.00/2.46G [00:00<?, ?B/s]"
      ]
     },
     "metadata": {}
    },
    {
     "output_type": "display_data",
     "data": {
      "application/vnd.jupyter.widget-view+json": {
       "model_id": "b359a311529a4461a7c0ca754cd9aa1c",
       "version_major": 2,
       "version_minor": 0
      },
      "text/plain": [
       "Downloading (…)neration_config.json:   0%|          | 0.00/189 [00:00<?, ?B/s]"
      ]
     },
     "metadata": {}
    },
    {
     "output_type": "display_data",
     "data": {
      "application/vnd.jupyter.widget-view+json": {
       "model_id": "5dac7dae236f4c7f9e5f08f73357e3bd",
       "version_major": 2,
       "version_minor": 0
      },
      "text/plain": [
       "Downloading (…)okenizer_config.json:   0%|          | 0.00/564 [00:00<?, ?B/s]"
      ]
     },
     "metadata": {}
    },
    {
     "output_type": "display_data",
     "data": {
      "application/vnd.jupyter.widget-view+json": {
       "model_id": "d9c7254f98b04797b0c1fd10b6927fca",
       "version_major": 2,
       "version_minor": 0
      },
      "text/plain": [
       "Downloading (…)tencepiece.bpe.model:   0%|          | 0.00/4.85M [00:00<?, ?B/s]"
      ]
     },
     "metadata": {}
    },
    {
     "output_type": "display_data",
     "data": {
      "application/vnd.jupyter.widget-view+json": {
       "model_id": "72befcfd4a244b2e9bf5f482c11d8fc4",
       "version_major": 2,
       "version_minor": 0
      },
      "text/plain": [
       "Downloading tokenizer.json:   0%|          | 0.00/17.3M [00:00<?, ?B/s]"
      ]
     },
     "metadata": {}
    },
    {
     "output_type": "display_data",
     "data": {
      "application/vnd.jupyter.widget-view+json": {
       "model_id": "5e273e29f2c84e7f85784ea4fd7fedc6",
       "version_major": 2,
       "version_minor": 0
      },
      "text/plain": [
       "Downloading (…)cial_tokens_map.json:   0%|          | 0.00/3.55k [00:00<?, ?B/s]"
      ]
     },
     "metadata": {}
    }
   ],
   "source": [
    "# TODO\n",
    "\n",
    "# Construct a pipeline for translating Japanese to English.\n",
    "\n",
    "translation_pipeline = pipeline(\n",
    "    task=\"translation\",\n",
    "    model=\"facebook/nllb-200-distilled-600M\",\n",
    "    model_kwargs={\"cache_dir\": DA.paths.datasets},\n",
    "    src_lang=\"jpn_Jpan\",\n",
    "    tgt_lang=\"eng_Latn\",\n",
    ")\n",
    "\n",
    "# Apply your pipeline on the sample of Japanese text in: jpn_sample[\"Japanese\"]\n",
    "translation_results = translation_pipeline(jpn_sample[\"Japanese\"])"
   ]
  },
  {
   "cell_type": "code",
   "execution_count": 0,
   "metadata": {
    "application/vnd.databricks.v1+cell": {
     "cellMetadata": {
      "byteLimit": 2048000,
      "rowLimit": 10000
     },
     "inputWidgets": {},
     "nuid": "5d48e9d4-0b18-46cd-a2f8-dc112734f70c",
     "showTitle": false,
     "title": ""
    }
   },
   "outputs": [
    {
     "output_type": "display_data",
     "data": {
      "text/html": [
       "<style scoped>\n",
       "  .table-result-container {\n",
       "    max-height: 300px;\n",
       "    overflow: auto;\n",
       "  }\n",
       "  table, th, td {\n",
       "    border: 1px solid black;\n",
       "    border-collapse: collapse;\n",
       "  }\n",
       "  th, td {\n",
       "    padding: 5px;\n",
       "  }\n",
       "  th {\n",
       "    text-align: left;\n",
       "  }\n",
       "</style><div class='table-result-container'><table class='table-result'><thead style='background-color: white'><tr><th>translation_text</th></tr></thead><tbody><tr><td>Wait a half minute.</td></tr><tr><td>You're five.</td></tr><tr><td>\"Did you see the video?\" \"A little bit\".</td></tr><tr><td>It's a good idea.</td></tr><tr><td>\"Tom, good night\". \"Mary, good night\".</td></tr><tr><td>Oh, that's right!</td></tr><tr><td>He's a little bit of a bum.</td></tr><tr><td>\"Tom!\" \"Oh, what?\"</td></tr><tr><td>\"Tom!\" \"What is it?\"</td></tr><tr><td>\"Where are you?\" \"Here you are\".</td></tr></tbody></table></div>"
      ]
     },
     "metadata": {
      "application/vnd.databricks.v1+output": {
       "addedWidgets": {},
       "aggData": [],
       "aggError": "",
       "aggOverflow": false,
       "aggSchema": [],
       "aggSeriesLimitReached": false,
       "aggType": "",
       "arguments": {},
       "columnCustomDisplayInfos": {},
       "data": [
        [
         "Wait a half minute."
        ],
        [
         "You're five."
        ],
        [
         "\"Did you see the video?\" \"A little bit\"."
        ],
        [
         "It's a good idea."
        ],
        [
         "\"Tom, good night\". \"Mary, good night\"."
        ],
        [
         "Oh, that's right!"
        ],
        [
         "He's a little bit of a bum."
        ],
        [
         "\"Tom!\" \"Oh, what?\""
        ],
        [
         "\"Tom!\" \"What is it?\""
        ],
        [
         "\"Where are you?\" \"Here you are\"."
        ]
       ],
       "datasetInfos": [],
       "dbfsResultPath": null,
       "isJsonSchema": true,
       "metadata": {},
       "overflow": false,
       "plotOptions": {
        "customPlotOptions": {},
        "displayType": "table",
        "pivotAggregation": null,
        "pivotColumns": null,
        "xColumns": null,
        "yColumns": null
       },
       "removedWidgets": [],
       "schema": [
        {
         "metadata": "{}",
         "name": "translation_text",
         "type": "\"string\""
        }
       ],
       "type": "table"
      }
     }
    }
   ],
   "source": [
    "display(translation_results)"
   ]
  },
  {
   "cell_type": "code",
   "execution_count": 0,
   "metadata": {
    "application/vnd.databricks.v1+cell": {
     "cellMetadata": {
      "byteLimit": 2048000,
      "rowLimit": 10000
     },
     "inputWidgets": {},
     "nuid": "318d5441-bb37-465d-9b23-9baae45f806a",
     "showTitle": false,
     "title": ""
    }
   },
   "outputs": [
    {
     "output_type": "stream",
     "name": "stdout",
     "text": [
      "\u001b[32mPASSED\u001b[0m: All tests passed for lesson1, question2\n\u001b[32mRESULTS RECORDED\u001b[0m: Click `Submit` when all questions are completed to log the results.\n"
     ]
    }
   ],
   "source": [
    "# Test your answer. DO NOT MODIFY THIS CELL.\n",
    "\n",
    "dbTestQuestion1_2(translation_pipeline, translation_results, jpn_sample[\"Japanese\"])"
   ]
  },
  {
   "cell_type": "code",
   "execution_count": 0,
   "metadata": {
    "application/vnd.databricks.v1+cell": {
     "cellMetadata": {
      "byteLimit": 2048000,
      "rowLimit": 10000
     },
     "inputWidgets": {},
     "nuid": "c17ca7a9-b4ed-4017-98fc-f25aa9c99122",
     "showTitle": false,
     "title": ""
    }
   },
   "outputs": [
    {
     "output_type": "display_data",
     "data": {
      "text/html": [
       "<style scoped>\n",
       "  .table-result-container {\n",
       "    max-height: 300px;\n",
       "    overflow: auto;\n",
       "  }\n",
       "  table, th, td {\n",
       "    border: 1px solid black;\n",
       "    border-collapse: collapse;\n",
       "  }\n",
       "  th, td {\n",
       "    padding: 5px;\n",
       "  }\n",
       "  th {\n",
       "    text-align: left;\n",
       "  }\n",
       "</style><div class='table-result-container'><table class='table-result'><thead style='background-color: white'><tr><th>translation_text</th><th>English</th><th>Japanese</th></tr></thead><tbody><tr><td>Wait a half minute.</td><td>Wait thirty minutes.</td><td>３０分待ってて。</td></tr><tr><td>You're five.</td><td>You're five years old.</td><td>君は5歳だ。</td></tr><tr><td>\"Did you see the video?\" \"A little bit\".</td><td>Did you watch the video? \"Some of it.\"</td><td>「ビデオ見た？」「少しだけね」</td></tr><tr><td>It's a good idea.</td><td>Good Idea!</td><td>名案だ。</td></tr><tr><td>\"Tom, good night\". \"Mary, good night\".</td><td>Good night, Tom. \"Good night, Mary.\"</td><td>「トム、おやすみなさい」「メアリー、おやすみ」</td></tr><tr><td>Oh, that's right!</td><td>Oh, I see!</td><td>ああ、なるほど！</td></tr><tr><td>He's a little bit of a bum.</td><td>That guy is gross.</td><td>あいつ、キモイな。</td></tr><tr><td>\"Tom!\" \"Oh, what?\"</td><td>Tom! \"What?\"</td><td>「トム！」「え？」</td></tr><tr><td>\"Tom!\" \"What is it?\"</td><td>Tom! \"What?\"</td><td>「トム！」「なに？」</td></tr><tr><td>\"Where are you?\" \"Here you are\".</td><td>Where are you? \"I’m here.\"</td><td>「どこにいるの？」「ここだよ」</td></tr></tbody></table></div>"
      ]
     },
     "metadata": {
      "application/vnd.databricks.v1+output": {
       "addedWidgets": {},
       "aggData": [],
       "aggError": "",
       "aggOverflow": false,
       "aggSchema": [],
       "aggSeriesLimitReached": false,
       "aggType": "",
       "arguments": {},
       "columnCustomDisplayInfos": {},
       "data": [
        [
         "Wait a half minute.",
         "Wait thirty minutes.",
         "３０分待ってて。"
        ],
        [
         "You're five.",
         "You're five years old.",
         "君は5歳だ。"
        ],
        [
         "\"Did you see the video?\" \"A little bit\".",
         "Did you watch the video? \"Some of it.\"",
         "「ビデオ見た？」「少しだけね」"
        ],
        [
         "It's a good idea.",
         "Good Idea!",
         "名案だ。"
        ],
        [
         "\"Tom, good night\". \"Mary, good night\".",
         "Good night, Tom. \"Good night, Mary.\"",
         "「トム、おやすみなさい」「メアリー、おやすみ」"
        ],
        [
         "Oh, that's right!",
         "Oh, I see!",
         "ああ、なるほど！"
        ],
        [
         "He's a little bit of a bum.",
         "That guy is gross.",
         "あいつ、キモイな。"
        ],
        [
         "\"Tom!\" \"Oh, what?\"",
         "Tom! \"What?\"",
         "「トム！」「え？」"
        ],
        [
         "\"Tom!\" \"What is it?\"",
         "Tom! \"What?\"",
         "「トム！」「なに？」"
        ],
        [
         "\"Where are you?\" \"Here you are\".",
         "Where are you? \"I’m here.\"",
         "「どこにいるの？」「ここだよ」"
        ]
       ],
       "datasetInfos": [],
       "dbfsResultPath": null,
       "isJsonSchema": true,
       "metadata": {},
       "overflow": false,
       "plotOptions": {
        "customPlotOptions": {},
        "displayType": "table",
        "pivotAggregation": null,
        "pivotColumns": null,
        "xColumns": null,
        "yColumns": null
       },
       "removedWidgets": [],
       "schema": [
        {
         "metadata": "{}",
         "name": "translation_text",
         "type": "\"string\""
        },
        {
         "metadata": "{}",
         "name": "English",
         "type": "\"string\""
        },
        {
         "metadata": "{}",
         "name": "Japanese",
         "type": "\"string\""
        }
       ],
       "type": "table"
      }
     }
    }
   ],
   "source": [
    "# Now we can display your translations side-by-side with the ground-truth `English` column from the dataset.\n",
    "translation_results_df = pd.DataFrame.from_dict(translation_results).join(\n",
    "    jpn_sample.to_pandas()\n",
    ")\n",
    "display(translation_results_df)"
   ]
  },
  {
   "cell_type": "markdown",
   "metadata": {
    "application/vnd.databricks.v1+cell": {
     "cellMetadata": {},
     "inputWidgets": {},
     "nuid": "c2849be0-8e6e-4a13-9d5c-26292751280f",
     "showTitle": false,
     "title": ""
    }
   },
   "source": [
    "If you feel stuck on the above Japanese -> English translation task, here are some hints:\n",
    "* Some models can handle *a lot* of languages.  Check out [NLLB](https://huggingface.co/docs/transformers/model_doc/nllb), the No Language Left Behind model ([research paper](https://arxiv.org/abs/2207.04672)).\n",
    "* The \"translation\" task for `pipeline` takes optional parameters `src_lang` (source language) and `tgt_lang` (target language), which are important when the model can handle multiple languages.  To figure out what codes to use to specify languages (and scripts for those languages), it can be helpful to find existing examples of using your model; for NLLB, check out [this Python script with codes](https://huggingface.co/spaces/Geonmo/nllb-translation-demo/blob/main/flores200_codes.py) or similar demo resources."
   ]
  },
  {
   "cell_type": "markdown",
   "metadata": {
    "application/vnd.databricks.v1+cell": {
     "cellMetadata": {},
     "inputWidgets": {},
     "nuid": "698438e6-1717-4c69-b7ea-da4436da88a5",
     "showTitle": false,
     "title": ""
    }
   },
   "source": [
    "### Question 3: Few-shot learning\n",
    "\n",
    "In this section, you will build a prompt which gets an LLM to answer a few-shot learning problem.  Your prompt will have 3 sections:\n",
    "\n",
    "1. High-level instruction about the task\n",
    "1. Examples of query-answer pairs for the LLM to learn from\n",
    "1. New query\n",
    "\n",
    "Your goal is to make the LLM answer the new query, with as good a response as possible.\n",
    "\n",
    "More specifically, your prompt should following this template:\n",
    "```\n",
    "<High-level instruction about the task: Given input_label, generate output_label.>:\n",
    "\n",
    "[<input_label>]: \"<input text>\"\n",
    "[<output_label>]: \"<output_text>\"\n",
    "###\n",
    "[<input_label>]: \"<input text>\"\n",
    "[<output_label>]: \"<output_text>\"\n",
    "###\n",
    "[<input_label>]: \"<input text>\"\n",
    "[<output_label>]:\n",
    "```\n",
    "where the final two lines represent the new query.\n",
    "\n",
    "It is up to you to choose a task, but here are some ideas:\n",
    "* Translation: This is easy but less interesting since there are already models fine-tuned for translation.  You can generate examples via a tool like Google Translate.\n",
    "* Create book titles or descriptions: Given a book title, generate a description, or vice versa.  You can get examples off of Wikipedia.\n",
    "* Generate tweets: Given keywords or a key message, generate a tweet.\n",
    "* Identify the subject: Given a sentence, extract the noun or name of the subject of the sentence.\n",
    "\n",
    "*Please **do not** copy examples from the demo notebook.*\n",
    "\n",
    "Tips:\n",
    "* If the model gives bad outputs with only 1 or 2 examples, try adding more.  3 or 4 examples can be much better than 1 or 2.\n",
    "* Not all tasks are equally difficult.  If your task is too challenging, try a different one."
   ]
  },
  {
   "cell_type": "code",
   "execution_count": 0,
   "metadata": {
    "application/vnd.databricks.v1+cell": {
     "cellMetadata": {
      "byteLimit": 2048000,
      "rowLimit": 10000
     },
     "inputWidgets": {},
     "nuid": "367fdc3e-5b43-4edb-9eb0-6b3bb4352c6e",
     "showTitle": false,
     "title": ""
    }
   },
   "outputs": [],
   "source": [
    "few_shot_pipeline = pipeline(\n",
    "    task=\"text-generation\",\n",
    "    model=\"EleutherAI/gpt-neo-1.3B\",\n",
    "    max_new_tokens=50,\n",
    "    model_kwargs={\"cache_dir\": DA.paths.datasets},\n",
    ")  # Use a predownloaded model\n",
    "\n",
    "# Get the token ID for \"###\", which we will use as the EOS token below.  (Recall we did this in the demo notebook.)\n",
    "eos_token_id = few_shot_pipeline.tokenizer.encode(\"###\")[0]"
   ]
  },
  {
   "cell_type": "markdown",
   "metadata": {
    "application/vnd.databricks.v1+cell": {
     "cellMetadata": {},
     "inputWidgets": {},
     "nuid": "ccf128d6-c1d7-4ad2-b182-fb387cad7ebb",
     "showTitle": false,
     "title": ""
    }
   },
   "source": [
    "Fill in the template below.  Feel free to adjust the number of examples."
   ]
  },
  {
   "cell_type": "code",
   "execution_count": 0,
   "metadata": {
    "application/vnd.databricks.v1+cell": {
     "cellMetadata": {
      "byteLimit": 2048000,
      "rowLimit": 10000
     },
     "inputWidgets": {},
     "nuid": "98e50609-2025-48d9-841f-e874fce762f7",
     "showTitle": false,
     "title": ""
    }
   },
   "outputs": [],
   "source": [
    "# TODO\n",
    "\n",
    "# Fill in this template.\n",
    "\n",
    "prompt = \"\"\"Say shits like Elon:\n",
    "\n",
    "[<input_label>]: \"future, good, result, with, humanity\"\n",
    "[<output_label>]: \"I really do encourage other manufacturers to bring electric cars to market. It's a good thing, and they need to bring it to market and keep iterating and improving and make better and better electric cars, and that's what going to result in humanity achieving a sustainable transport future. I wish it was growing faster than it is.\"\n",
    "###\n",
    "[<input_label>]: \"communication, best, thinking, advice\"\n",
    "[<output_label>]: \"I think it's very important to have a feedback loop, where you're constantly thinking about what you've done and how you could be doing it better. I think that's the single best piece of advice: constantly think about how you could be doing things better and questioning yourself.\"\n",
    "###\n",
    "[<input_label>]: \"money, world, video games, better, me\"\n",
    "[<output_label>]:To make an embarrassing admission, I like video games. That's what got me into software engineering when I was a kid. I wanted to make money so I could buy a better computer to play better video games - nothing like saving the world.\n",
    "###\n",
    "[<input_label>]: \"zelda, video games, best, future\"\n",
    "[<output_label>]:\"\"\""
   ]
  },
  {
   "cell_type": "code",
   "execution_count": 0,
   "metadata": {
    "application/vnd.databricks.v1+cell": {
     "cellMetadata": {
      "byteLimit": 2048000,
      "rowLimit": 10000
     },
     "inputWidgets": {},
     "nuid": "2cbd52c3-fc8c-44d6-aaf9-5c37709a1361",
     "showTitle": false,
     "title": ""
    }
   },
   "outputs": [
    {
     "output_type": "stream",
     "name": "stderr",
     "text": [
      "/databricks/python/lib/python3.10/site-packages/transformers/generation/utils.py:1219: UserWarning: You have modified the pretrained model configuration to control generation. This is a deprecated strategy to control generation and will be removed soon, in a future version. Please use a generation configuration file (see https://huggingface.co/docs/transformers/main_classes/text_generation)\n  warnings.warn(\nSetting `pad_token_id` to `eos_token_id`:21017 for open-end generation.\n"
     ]
    },
    {
     "output_type": "stream",
     "name": "stdout",
     "text": [
      "Say shits like Elon:\n\n[<input_label>]: \"future, good, result, with, humanity\"\n[<output_label>]: \"I really do encourage other manufacturers to bring electric cars to market. It's a good thing, and they need to bring it to market and keep iterating and improving and make better and better electric cars, and that's what going to result in humanity achieving a sustainable transport future. I wish it was growing faster than it is.\"\n###\n[<input_label>]: \"communication, best, thinking, advice\"\n[<output_label>]: \"I think it's very important to have a feedback loop, where you're constantly thinking about what you've done and how you could be doing it better. I think that's the single best piece of advice: constantly think about how you could be doing things better and questioning yourself.\"\n###\n[<input_label>]: \"money, world, video games, better, me\"\n[<output_label>]:To make an embarrassing admission, I like video games. That's what got me into software engineering when I was a kid. I wanted to make money so I could buy a better computer to play better video games - nothing like saving the world.\n###\n[<input_label>]: \"zelda, video games, best, future\"\n[<output_label>]: \"I think that's what got me into software engineering when I was a kid. I wanted to make money so I could buy a better computer to play better video games - nothing like saving the world. I think that's what got me into software\n"
     ]
    }
   ],
   "source": [
    "results = few_shot_pipeline(prompt, do_sample=True, eos_token_id=eos_token_id)\n",
    "\n",
    "print(results[0][\"generated_text\"])"
   ]
  },
  {
   "cell_type": "code",
   "execution_count": 0,
   "metadata": {
    "application/vnd.databricks.v1+cell": {
     "cellMetadata": {
      "byteLimit": 2048000,
      "rowLimit": 10000
     },
     "inputWidgets": {},
     "nuid": "b05a1f18-5029-48d1-8cad-0ef187681123",
     "showTitle": false,
     "title": ""
    }
   },
   "outputs": [
    {
     "output_type": "stream",
     "name": "stdout",
     "text": [
      "\u001b[32mPASSED\u001b[0m: All tests passed for lesson1, question3\n\u001b[32mRESULTS RECORDED\u001b[0m: Click `Submit` when all questions are completed to log the results.\n"
     ]
    }
   ],
   "source": [
    "# Test your answer. DO NOT MODIFY THIS CELL.\n",
    "\n",
    "dbTestQuestion1_3(few_shot_pipeline, prompt, results[0][\"generated_text\"])"
   ]
  },
  {
   "cell_type": "markdown",
   "metadata": {
    "application/vnd.databricks.v1+cell": {
     "cellMetadata": {},
     "inputWidgets": {},
     "nuid": "545aba04-9382-456a-a559-9027e16c6cc5",
     "showTitle": false,
     "title": ""
    }
   },
   "source": [
    "## Explore model and tokenizer settings\n",
    "\n",
    "So far, we have used pipelines in a very basic way, without worrying about configuration options.  In this section, you will explore the various options for models and tokenizers to learn how they affect LLM behavior.\n",
    "\n",
    "We will load a dataset, tokenizer, and model for you.  We will also define a helper method for printing out results nicely."
   ]
  },
  {
   "cell_type": "code",
   "execution_count": 0,
   "metadata": {
    "application/vnd.databricks.v1+cell": {
     "cellMetadata": {
      "byteLimit": 2048000,
      "rowLimit": 10000
     },
     "inputWidgets": {},
     "nuid": "301bfaab-3805-4ba0-81a4-9abe11bf8d3e",
     "showTitle": false,
     "title": ""
    }
   },
   "outputs": [
    {
     "output_type": "stream",
     "name": "stderr",
     "text": [
      "/databricks/python_shell/dbruntime/huggingface_patches/datasets.py:13: UserWarning: During large dataset downloads, there could be multiple progress bar widgets that can cause performance issues for your notebook or browser. To avoid these issues, use `datasets.utils.logging.disable_progress_bar()` to turn off the progress bars.\n  warnings.warn(\nFound cached dataset xsum (/dbfs/mnt/dbacademy-datasets/large-language-models/v01/xsum/default/1.2.0/082863bf4754ee058a5b6f6525d0cb2b18eadb62c7b370b095d1364050a52b71)\n"
     ]
    },
    {
     "output_type": "display_data",
     "data": {
      "application/vnd.jupyter.widget-view+json": {
       "model_id": "67c360f6e4334fecbaa9944a2a56c35a",
       "version_major": 2,
       "version_minor": 0
      },
      "text/plain": [
       "  0%|          | 0/3 [00:00<?, ?it/s]"
      ]
     },
     "metadata": {}
    }
   ],
   "source": [
    "# Load data, tokenizer, and model.\n",
    "\n",
    "from transformers import T5Tokenizer, T5ForConditionalGeneration\n",
    "\n",
    "xsum_dataset = load_dataset(\"xsum\", version=\"1.2.0\", cache_dir=DA.paths.datasets)\n",
    "xsum_sample = xsum_dataset[\"train\"].select(range(10))\n",
    "\n",
    "tokenizer = T5Tokenizer.from_pretrained(\"t5-small\", cache_dir=DA.paths.datasets)\n",
    "model = T5ForConditionalGeneration.from_pretrained(\n",
    "    \"t5-small\", cache_dir=DA.paths.datasets\n",
    ")\n",
    "\n",
    "# Prepare articles for T5, which requires a \"summarize: \" prefix.\n",
    "articles = list(map(lambda article: \"summarize: \" + article, xsum_sample[\"document\"]))"
   ]
  },
  {
   "cell_type": "code",
   "execution_count": 0,
   "metadata": {
    "application/vnd.databricks.v1+cell": {
     "cellMetadata": {
      "byteLimit": 2048000,
      "rowLimit": 10000
     },
     "inputWidgets": {},
     "nuid": "b8f35c77-0cc0-431a-8c10-974538803604",
     "showTitle": false,
     "title": ""
    }
   },
   "outputs": [],
   "source": [
    "def display_summaries(decoded_summaries: list) -> None:\n",
    "    \"\"\"Helper method to display ground-truth and generated summaries side-by-side\"\"\"\n",
    "    results_df = pd.DataFrame(zip(xsum_sample[\"summary\"], decoded_summaries))\n",
    "    results_df.columns = [\"Summary\", \"Generated\"]\n",
    "    display(results_df)"
   ]
  },
  {
   "cell_type": "markdown",
   "metadata": {
    "application/vnd.databricks.v1+cell": {
     "cellMetadata": {},
     "inputWidgets": {},
     "nuid": "e5f398d3-61ae-4fb6-8e54-ef0048586c5d",
     "showTitle": false,
     "title": ""
    }
   },
   "source": [
    "### Open-ended exploration\n",
    "\n",
    "In the cells below, we provide code for running the tokenizer and model on the articles.  Your task is to play around with the various configurations to gain more intuition about the effects.  Look for changes to output quality and running time in particular, and remember that running the same code twice may result in different answers.\n",
    "\n",
    "Below, we list brief descriptions of each of the parameters you may wish to tweak.\n",
    "* Tokenizer encoding\n",
    "  * `max_length`: This caps the maximum input length.  It must be at or below the model's input length limit.\n",
    "  * `return_tensors`: Do not change this one.  This tells Hugging Face to return tensors in PyTorch (\"pt\") format.\n",
    "* Model\n",
    "  * `do_sample`: True or False.  This tells the model whether or not to use sampling in generation.  If False, then it will do greedy search or beam search.  If True, then it will do random sampling which can optionally use the top-p and/or top-k sampling techniques.  See the blog post linked below for more details on sampling techniques.\n",
    "  * `num_beams`: (for beam search) This specifies the number of beams to use in beam search across possible sequences.  Increasing the number can help the model to find better sequences, at the cost of more computation.\n",
    "  * `min_length`, `max_length`: Generative models can be instructed to generate new text between these token lengths.\n",
    "  * `top_k`: (for sampling) This controls the use of top-K sampling, which forces sampling to ignore low-probability tokens by limiting to the K most probable next tokens.  Set to 0 to disable top-K sampling.\n",
    "  * `top_p`: (for sampling) This controls the use of top-p sampling, which forces sampling to ignore low-probability tokens by limiting to the top tokens making up probability mass p.  Set to 0 to disable top-p sampling.\n",
    "  * `temperature`: (for sampling) This controls the \"temperature\" of the softmax.  Lower values bias further towards high-probability next tokens.  Setting to 0 makes sampling equivalent to greedy search.\n",
    "* Tokenizer decoding\n",
    "  * `skip_special_tokens`: True or False.  This allows you to skip special tokens (like EOS tokens) in the model outputs.\n",
    "\n",
    "Do not tweak:\n",
    "* Tokenizer encoding\n",
    "  * `padding`: True or False.  This helps to handle variable-length inputs by adding padding to short inputs.  Since it should be set according to your task and data, you should not change it for this exercise (unless you want to see what warnings or error may appear).\n",
    "  * `truncation`: True or False.  This helps to handle variable-length inputs by truncating very long inputs.  Since it should be set according to your task and data, you should not change it for this exercise (unless you want to see what warnings or error may appear).\n",
    "\n",
    "If you need more info about the parameters of methods, see the `help()` calls in cells below, or search the Hugging Face docs.  Some top links are:\n",
    "* Tokenizer call for encoding: [PreTrainedTokenizerBase.\\_\\_call\\_\\_ API docs](https://huggingface.co/docs/transformers/v4.28.1/en/internal/tokenization_utils#transformers.PreTrainedTokenizerBase.__call__)\n",
    "* Model invocation: [Docs for generation strategies](https://huggingface.co/docs/transformers/main/en/generation_strategies) and this blog post on [\"How to generate text: using different decoding methods for language generation with Transformers\"](https://huggingface.co/blog/how-to-generate)\n",
    "\n",
    "If you mess up and can't get back to a working state, you can use the Revision History to revert your changes.\n",
    "Access that via the clock-like icon or \"Revision History\" button in the top-right of this notebook page. (See screenshot below.)\n",
    "\n",
    "![Screenshot of notebook Revision History](https://files.training.databricks.com/images/llm/revision_history.png)"
   ]
  },
  {
   "cell_type": "code",
   "execution_count": 0,
   "metadata": {
    "application/vnd.databricks.v1+cell": {
     "cellMetadata": {
      "byteLimit": 2048000,
      "rowLimit": 10000
     },
     "inputWidgets": {},
     "nuid": "ac03b6c4-5be7-4c96-a744-1e130660ea30",
     "showTitle": false,
     "title": ""
    }
   },
   "outputs": [
    {
     "output_type": "display_data",
     "data": {
      "text/html": [
       "<style scoped>\n",
       "  .table-result-container {\n",
       "    max-height: 300px;\n",
       "    overflow: auto;\n",
       "  }\n",
       "  table, th, td {\n",
       "    border: 1px solid black;\n",
       "    border-collapse: collapse;\n",
       "  }\n",
       "  th, td {\n",
       "    padding: 5px;\n",
       "  }\n",
       "  th {\n",
       "    text-align: left;\n",
       "  }\n",
       "</style><div class='table-result-container'><table class='table-result'><thead style='background-color: white'><tr><th>Summary</th><th>Generated</th></tr></thead><tbody><tr><td>Clean-up operations are continuing across the Scottish Borders and Dumfries and Galloway after flooding caused by Storm Frank.</td><td>the full cost of damage in Newton Stewart is still being assessed. many roads in peeblesshire remain badly affected by standing water. a flood alert remains in place across the</td></tr><tr><td>Two tourist buses have been destroyed by fire in a suspected arson attack in Belfast city centre.</td><td>fire alarm went off at the Holiday Inn in Hope Street on Saturday. guests were asked to leave the hotel. one of the two buses is from germany, the other from china</td></tr><tr><td>Lewis Hamilton stormed to pole position at the Bahrain Grand Prix ahead of Mercedes team-mate Nico Rosberg.</td><td>stewards handed reprimand to f1 team-mate. f1 team-mate reprimand after f1 team-mate escaped punishment</td></tr><tr><td>A former Lincolnshire Police officer carried out a series of sex attacks on boys, a jury at Lincoln Crown Court was told.</td><td>the 67-year-old is accused of committing the offences between March 1972 and October 1989. he denies all the charges, including two counts of indecency</td></tr><tr><td>An armed man who locked himself into a room at a psychiatric hospital in Istanbul has ended his threat to kill himself, Turkish media report.</td><td>a man receiving treatment at the clinic threatened to shoot himself and others. he was evacuated from the hospital. the incident comes amid tension in Istanbul following several attacks. the</td></tr><tr><td>Defending Pro12 champions Glasgow Warriors bagged a late bonus-point victory over the Dragons despite a host of absentees and two yellow cards.</td><td>the dragons took control of a messy match in the second period. Gregor Townsend gave a debut to powerhouse wing Taqele Naiyaravoro</td></tr><tr><td>A man with links to a car that was involved in a fatal bus stop crash in south London is being sought by police.</td><td>Veronica Vanessa Chango-Alverez, 31, died in the crash in Streatham, croydon. the driver fled the scene abandoning the grey Audi, which</td></tr><tr><td>Welsh cyclist Luke Rowe says changes to the sport must be made following the death of Antoine Demoitie.</td><td>the 25-year-old was hit by a motorbike during the Gent-Wevelgem race. the race passed through northern France and involved 50 motorbikes. the</td></tr><tr><td>Manchester City midfielder Ilkay Gundogan says it has been mentally tough to overcome a third major injury.</td><td>arsenal striker says he will not rush his return to the premier league. the 26-year-old will not be fit for the start of the season at Brighton on 12 august</td></tr><tr><td>A jogger has been hit by an unmarked police car responding to an emergency call, leaving him with \"serious life-changing injuries\".</td><td>the crash happened about 07:20 GMT at the junction of the A127 and Progress Road. the man, aged in his 20s, was treated at the scene for a head injury</td></tr></tbody></table></div>"
      ]
     },
     "metadata": {
      "application/vnd.databricks.v1+output": {
       "addedWidgets": {},
       "aggData": [],
       "aggError": "",
       "aggOverflow": false,
       "aggSchema": [],
       "aggSeriesLimitReached": false,
       "aggType": "",
       "arguments": {},
       "columnCustomDisplayInfos": {},
       "data": [
        [
         "Clean-up operations are continuing across the Scottish Borders and Dumfries and Galloway after flooding caused by Storm Frank.",
         "the full cost of damage in Newton Stewart is still being assessed. many roads in peeblesshire remain badly affected by standing water. a flood alert remains in place across the"
        ],
        [
         "Two tourist buses have been destroyed by fire in a suspected arson attack in Belfast city centre.",
         "fire alarm went off at the Holiday Inn in Hope Street on Saturday. guests were asked to leave the hotel. one of the two buses is from germany, the other from china"
        ],
        [
         "Lewis Hamilton stormed to pole position at the Bahrain Grand Prix ahead of Mercedes team-mate Nico Rosberg.",
         "stewards handed reprimand to f1 team-mate. f1 team-mate reprimand after f1 team-mate escaped punishment"
        ],
        [
         "A former Lincolnshire Police officer carried out a series of sex attacks on boys, a jury at Lincoln Crown Court was told.",
         "the 67-year-old is accused of committing the offences between March 1972 and October 1989. he denies all the charges, including two counts of indecency"
        ],
        [
         "An armed man who locked himself into a room at a psychiatric hospital in Istanbul has ended his threat to kill himself, Turkish media report.",
         "a man receiving treatment at the clinic threatened to shoot himself and others. he was evacuated from the hospital. the incident comes amid tension in Istanbul following several attacks. the"
        ],
        [
         "Defending Pro12 champions Glasgow Warriors bagged a late bonus-point victory over the Dragons despite a host of absentees and two yellow cards.",
         "the dragons took control of a messy match in the second period. Gregor Townsend gave a debut to powerhouse wing Taqele Naiyaravoro"
        ],
        [
         "A man with links to a car that was involved in a fatal bus stop crash in south London is being sought by police.",
         "Veronica Vanessa Chango-Alverez, 31, died in the crash in Streatham, croydon. the driver fled the scene abandoning the grey Audi, which"
        ],
        [
         "Welsh cyclist Luke Rowe says changes to the sport must be made following the death of Antoine Demoitie.",
         "the 25-year-old was hit by a motorbike during the Gent-Wevelgem race. the race passed through northern France and involved 50 motorbikes. the"
        ],
        [
         "Manchester City midfielder Ilkay Gundogan says it has been mentally tough to overcome a third major injury.",
         "arsenal striker says he will not rush his return to the premier league. the 26-year-old will not be fit for the start of the season at Brighton on 12 august"
        ],
        [
         "A jogger has been hit by an unmarked police car responding to an emergency call, leaving him with \"serious life-changing injuries\".",
         "the crash happened about 07:20 GMT at the junction of the A127 and Progress Road. the man, aged in his 20s, was treated at the scene for a head injury"
        ]
       ],
       "datasetInfos": [],
       "dbfsResultPath": null,
       "isJsonSchema": true,
       "metadata": {},
       "overflow": false,
       "plotOptions": {
        "customPlotOptions": {},
        "displayType": "table",
        "pivotAggregation": null,
        "pivotColumns": null,
        "xColumns": null,
        "yColumns": null
       },
       "removedWidgets": [],
       "schema": [
        {
         "metadata": "{}",
         "name": "Summary",
         "type": "\"string\""
        },
        {
         "metadata": "{}",
         "name": "Generated",
         "type": "\"string\""
        }
       ],
       "type": "table"
      }
     }
    }
   ],
   "source": [
    "##############################################################################\n",
    "# TODO: Try editing the parameters in this section, and see how they affect the results.\n",
    "#       You can also copy and edit the cell to compare results across different parameter settings.\n",
    "#\n",
    "# We show all parameter settings for ease-of-modification, but in practice, you would only set relevant ones.\n",
    "inputs = tokenizer(\n",
    "    articles, max_length=1024, return_tensors=\"pt\", padding=True, truncation=True\n",
    ")\n",
    "\n",
    "summary_ids = model.generate(\n",
    "    inputs.input_ids,\n",
    "    attention_mask=inputs.attention_mask,\n",
    "    do_sample=True,\n",
    "    num_beams=20,\n",
    "    min_length=0,\n",
    "    max_length=40,\n",
    "    top_k=20,\n",
    "    top_p=0.5,\n",
    "    temperature=0.7,\n",
    ")\n",
    "\n",
    "decoded_summaries = tokenizer.batch_decode(summary_ids, skip_special_tokens=True)\n",
    "##############################################################################\n",
    "\n",
    "display_summaries(decoded_summaries)"
   ]
  },
  {
   "cell_type": "markdown",
   "metadata": {
    "application/vnd.databricks.v1+cell": {
     "cellMetadata": {},
     "inputWidgets": {},
     "nuid": "cca511b9-4cb6-417d-bc8a-9ece12ba4b40",
     "showTitle": false,
     "title": ""
    }
   },
   "source": [
    "Uncomment `help()` calls below as needed to see doc strings for stages of the pipeline."
   ]
  },
  {
   "cell_type": "code",
   "execution_count": 0,
   "metadata": {
    "application/vnd.databricks.v1+cell": {
     "cellMetadata": {
      "byteLimit": 2048000,
      "rowLimit": 10000
     },
     "inputWidgets": {},
     "nuid": "31a7c56e-e6af-47b5-81b4-9643fb743207",
     "showTitle": false,
     "title": ""
    }
   },
   "outputs": [
    {
     "output_type": "stream",
     "name": "stdout",
     "text": [
      "Help on method __call__ in module transformers.tokenization_utils_base:\n\n__call__(text: Union[str, List[str], List[List[str]]] = None, text_pair: Union[str, List[str], List[List[str]], NoneType] = None, text_target: Union[str, List[str], List[List[str]]] = None, text_pair_target: Union[str, List[str], List[List[str]], NoneType] = None, add_special_tokens: bool = True, padding: Union[bool, str, transformers.utils.generic.PaddingStrategy] = False, truncation: Union[bool, str, transformers.tokenization_utils_base.TruncationStrategy] = None, max_length: Optional[int] = None, stride: int = 0, is_split_into_words: bool = False, pad_to_multiple_of: Optional[int] = None, return_tensors: Union[str, transformers.utils.generic.TensorType, NoneType] = None, return_token_type_ids: Optional[bool] = None, return_attention_mask: Optional[bool] = None, return_overflowing_tokens: bool = False, return_special_tokens_mask: bool = False, return_offsets_mapping: bool = False, return_length: bool = False, verbose: bool = True, **kwargs) -> transformers.tokenization_utils_base.BatchEncoding method of transformers.models.t5.tokenization_t5.T5Tokenizer instance\n    Main method to tokenize and prepare for the model one or several sequence(s) or one or several pair(s) of\n    sequences.\n    \n    Args:\n        text (`str`, `List[str]`, `List[List[str]]`, *optional*):\n            The sequence or batch of sequences to be encoded. Each sequence can be a string or a list of strings\n            (pretokenized string). If the sequences are provided as list of strings (pretokenized), you must set\n            `is_split_into_words=True` (to lift the ambiguity with a batch of sequences).\n        text_pair (`str`, `List[str]`, `List[List[str]]`, *optional*):\n            The sequence or batch of sequences to be encoded. Each sequence can be a string or a list of strings\n            (pretokenized string). If the sequences are provided as list of strings (pretokenized), you must set\n            `is_split_into_words=True` (to lift the ambiguity with a batch of sequences).\n        text_target (`str`, `List[str]`, `List[List[str]]`, *optional*):\n            The sequence or batch of sequences to be encoded as target texts. Each sequence can be a string or a\n            list of strings (pretokenized string). If the sequences are provided as list of strings (pretokenized),\n            you must set `is_split_into_words=True` (to lift the ambiguity with a batch of sequences).\n        text_pair_target (`str`, `List[str]`, `List[List[str]]`, *optional*):\n            The sequence or batch of sequences to be encoded as target texts. Each sequence can be a string or a\n            list of strings (pretokenized string). If the sequences are provided as list of strings (pretokenized),\n            you must set `is_split_into_words=True` (to lift the ambiguity with a batch of sequences).\n    \n        add_special_tokens (`bool`, *optional*, defaults to `True`):\n            Whether or not to encode the sequences with the special tokens relative to their model.\n        padding (`bool`, `str` or [`~utils.PaddingStrategy`], *optional*, defaults to `False`):\n            Activates and controls padding. Accepts the following values:\n    \n            - `True` or `'longest'`: Pad to the longest sequence in the batch (or no padding if only a single\n              sequence if provided).\n            - `'max_length'`: Pad to a maximum length specified with the argument `max_length` or to the maximum\n              acceptable input length for the model if that argument is not provided.\n            - `False` or `'do_not_pad'` (default): No padding (i.e., can output a batch with sequences of different\n              lengths).\n        truncation (`bool`, `str` or [`~tokenization_utils_base.TruncationStrategy`], *optional*, defaults to `False`):\n            Activates and controls truncation. Accepts the following values:\n    \n            - `True` or `'longest_first'`: Truncate to a maximum length specified with the argument `max_length` or\n              to the maximum acceptable input length for the model if that argument is not provided. This will\n              truncate token by token, removing a token from the longest sequence in the pair if a pair of\n              sequences (or a batch of pairs) is provided.\n            - `'only_first'`: Truncate to a maximum length specified with the argument `max_length` or to the\n              maximum acceptable input length for the model if that argument is not provided. This will only\n              truncate the first sequence of a pair if a pair of sequences (or a batch of pairs) is provided.\n            - `'only_second'`: Truncate to a maximum length specified with the argument `max_length` or to the\n              maximum acceptable input length for the model if that argument is not provided. This will only\n              truncate the second sequence of a pair if a pair of sequences (or a batch of pairs) is provided.\n            - `False` or `'do_not_truncate'` (default): No truncation (i.e., can output batch with sequence lengths\n              greater than the model maximum admissible input size).\n        max_length (`int`, *optional*):\n            Controls the maximum length to use by one of the truncation/padding parameters.\n    \n            If left unset or set to `None`, this will use the predefined model maximum length if a maximum length\n            is required by one of the truncation/padding parameters. If the model has no specific maximum input\n            length (like XLNet) truncation/padding to a maximum length will be deactivated.\n        stride (`int`, *optional*, defaults to 0):\n            If set to a number along with `max_length`, the overflowing tokens returned when\n            `return_overflowing_tokens=True` will contain some tokens from the end of the truncated sequence\n            returned to provide some overlap between truncated and overflowing sequences. The value of this\n            argument defines the number of overlapping tokens.\n        is_split_into_words (`bool`, *optional*, defaults to `False`):\n            Whether or not the input is already pre-tokenized (e.g., split into words). If set to `True`, the\n            tokenizer assumes the input is already split into words (for instance, by splitting it on whitespace)\n            which it will tokenize. This is useful for NER or token classification.\n        pad_to_multiple_of (`int`, *optional*):\n            If set will pad the sequence to a multiple of the provided value. Requires `padding` to be activated.\n            This is especially useful to enable the use of Tensor Cores on NVIDIA hardware with compute capability\n            `>= 7.5` (Volta).\n        return_tensors (`str` or [`~utils.TensorType`], *optional*):\n            If set, will return tensors instead of list of python integers. Acceptable values are:\n    \n            - `'tf'`: Return TensorFlow `tf.constant` objects.\n            - `'pt'`: Return PyTorch `torch.Tensor` objects.\n            - `'np'`: Return Numpy `np.ndarray` objects.\n    \n        return_token_type_ids (`bool`, *optional*):\n            Whether to return token type IDs. If left to the default, will return the token type IDs according to\n            the specific tokenizer's default, defined by the `return_outputs` attribute.\n    \n            [What are token type IDs?](../glossary#token-type-ids)\n        return_attention_mask (`bool`, *optional*):\n            Whether to return the attention mask. If left to the default, will return the attention mask according\n            to the specific tokenizer's default, defined by the `return_outputs` attribute.\n    \n            [What are attention masks?](../glossary#attention-mask)\n        return_overflowing_tokens (`bool`, *optional*, defaults to `False`):\n            Whether or not to return overflowing token sequences. If a pair of sequences of input ids (or a batch\n            of pairs) is provided with `truncation_strategy = longest_first` or `True`, an error is raised instead\n            of returning overflowing tokens.\n        return_special_tokens_mask (`bool`, *optional*, defaults to `False`):\n            Whether or not to return special tokens mask information.\n        return_offsets_mapping (`bool`, *optional*, defaults to `False`):\n            Whether or not to return `(char_start, char_end)` for each token.\n    \n            This is only available on fast tokenizers inheriting from [`PreTrainedTokenizerFast`], if using\n            Python's tokenizer, this method will raise `NotImplementedError`.\n        return_length  (`bool`, *optional*, defaults to `False`):\n            Whether or not to return the lengths of the encoded inputs.\n        verbose (`bool`, *optional*, defaults to `True`):\n            Whether or not to print more information and warnings.\n        **kwargs: passed to the `self.tokenize()` method\n    \n    Return:\n        [`BatchEncoding`]: A [`BatchEncoding`] with the following fields:\n    \n        - **input_ids** -- List of token ids to be fed to a model.\n    \n          [What are input IDs?](../glossary#input-ids)\n    \n        - **token_type_ids** -- List of token type ids to be fed to a model (when `return_token_type_ids=True` or\n          if *\"token_type_ids\"* is in `self.model_input_names`).\n    \n          [What are token type IDs?](../glossary#token-type-ids)\n    \n        - **attention_mask** -- List of indices specifying which tokens should be attended to by the model (when\n          `return_attention_mask=True` or if *\"attention_mask\"* is in `self.model_input_names`).\n    \n          [What are attention masks?](../glossary#attention-mask)\n    \n        - **overflowing_tokens** -- List of overflowing tokens sequences (when a `max_length` is specified and\n          `return_overflowing_tokens=True`).\n        - **num_truncated_tokens** -- Number of tokens truncated (when a `max_length` is specified and\n          `return_overflowing_tokens=True`).\n        - **special_tokens_mask** -- List of 0s and 1s, with 1 specifying added special tokens and 0 specifying\n          regular sequence tokens (when `add_special_tokens=True` and `return_special_tokens_mask=True`).\n        - **length** -- The length of the inputs (when `return_length=True`)\n\n"
     ]
    }
   ],
   "source": [
    "# Options for calling the tokenizer (lots to see here)\n",
    "help(tokenizer.__call__)"
   ]
  },
  {
   "cell_type": "code",
   "execution_count": 0,
   "metadata": {
    "application/vnd.databricks.v1+cell": {
     "cellMetadata": {
      "byteLimit": 2048000,
      "rowLimit": 10000
     },
     "inputWidgets": {},
     "nuid": "2e3549a3-d9aa-4fac-91bd-96cdf0fa9560",
     "showTitle": false,
     "title": ""
    }
   },
   "outputs": [
    {
     "output_type": "stream",
     "name": "stdout",
     "text": [
      "Help on method generate in module transformers.generation.utils:\n\ngenerate(inputs: Optional[torch.Tensor] = None, generation_config: Optional[transformers.generation.configuration_utils.GenerationConfig] = None, logits_processor: Optional[transformers.generation.logits_process.LogitsProcessorList] = None, stopping_criteria: Optional[transformers.generation.stopping_criteria.StoppingCriteriaList] = None, prefix_allowed_tokens_fn: Optional[Callable[[int, torch.Tensor], List[int]]] = None, synced_gpus: Optional[bool] = None, streamer: Optional[ForwardRef('BaseStreamer')] = None, **kwargs) -> Union[transformers.generation.utils.GreedySearchEncoderDecoderOutput, transformers.generation.utils.GreedySearchDecoderOnlyOutput, transformers.generation.utils.SampleEncoderDecoderOutput, transformers.generation.utils.SampleDecoderOnlyOutput, transformers.generation.utils.BeamSearchEncoderDecoderOutput, transformers.generation.utils.BeamSearchDecoderOnlyOutput, transformers.generation.utils.BeamSampleEncoderDecoderOutput, transformers.generation.utils.BeamSampleDecoderOnlyOutput, transformers.generation.utils.ContrastiveSearchEncoderDecoderOutput, transformers.generation.utils.ContrastiveSearchDecoderOnlyOutput, torch.LongTensor] method of transformers.models.t5.modeling_t5.T5ForConditionalGeneration instance\n    Generates sequences of token ids for models with a language modeling head.\n    \n    <Tip warning={true}>\n    \n    Most generation-controlling parameters are set in `generation_config` which, if not passed, will be set to the\n    model's default generation configuration. You can override any `generation_config` by passing the corresponding\n    parameters to generate(), e.g. `.generate(inputs, num_beams=4, do_sample=True)`.\n    \n    For an overview of generation strategies and code examples, check out the [following\n    guide](../generation_strategies).\n    \n    </Tip>\n    \n    Parameters:\n        inputs (`torch.Tensor` of varying shape depending on the modality, *optional*):\n            The sequence used as a prompt for the generation or as model inputs to the encoder. If `None` the\n            method initializes it with `bos_token_id` and a batch size of 1. For decoder-only models `inputs`\n            should of in the format of `input_ids`. For encoder-decoder models *inputs* can represent any of\n            `input_ids`, `input_values`, `input_features`, or `pixel_values`.\n        generation_config (`~generation.GenerationConfig`, *optional*):\n            The generation configuration to be used as base parametrization for the generation call. `**kwargs`\n            passed to generate matching the attributes of `generation_config` will override them. If\n            `generation_config` is not provided, the default will be used, which had the following loading\n            priority: 1) from the `generation_config.json` model file, if it exists; 2) from the model\n            configuration. Please note that unspecified parameters will inherit [`~generation.GenerationConfig`]'s\n            default values, whose documentation should be checked to parameterize generation.\n        logits_processor (`LogitsProcessorList`, *optional*):\n            Custom logits processors that complement the default logits processors built from arguments and\n            generation config. If a logit processor is passed that is already created with the arguments or a\n            generation config an error is thrown. This feature is intended for advanced users.\n        stopping_criteria (`StoppingCriteriaList`, *optional*):\n            Custom stopping criteria that complement the default stopping criteria built from arguments and a\n            generation config. If a stopping criteria is passed that is already created with the arguments or a\n            generation config an error is thrown. This feature is intended for advanced users.\n        prefix_allowed_tokens_fn (`Callable[[int, torch.Tensor], List[int]]`, *optional*):\n            If provided, this function constraints the beam search to allowed tokens only at each step. If not\n            provided no constraint is applied. This function takes 2 arguments: the batch ID `batch_id` and\n            `input_ids`. It has to return a list with the allowed tokens for the next generation step conditioned\n            on the batch ID `batch_id` and the previously generated tokens `inputs_ids`. This argument is useful\n            for constrained generation conditioned on the prefix, as described in [Autoregressive Entity\n            Retrieval](https://arxiv.org/abs/2010.00904).\n        synced_gpus (`bool`, *optional*):\n            Whether to continue running the while loop until max_length. Unless overridden this flag will be set to\n            `True` under DeepSpeed ZeRO Stage 3 multiple GPUs environment to avoid hanging if one GPU finished\n            generating before other GPUs. Otherwise it'll be set to `False`.\n        streamer (`BaseStreamer`, *optional*):\n            Streamer object that will be used to stream the generated sequences. Generated tokens are passed\n            through `streamer.put(token_ids)` and the streamer is responsible for any further processing.\n    \n        kwargs:\n            Ad hoc parametrization of `generate_config` and/or additional model-specific kwargs that will be\n            forwarded to the `forward` function of the model. If the model is an encoder-decoder model, encoder\n            specific kwargs should not be prefixed and decoder specific kwargs should be prefixed with *decoder_*.\n    \n    Return:\n        [`~utils.ModelOutput`] or `torch.LongTensor`: A [`~utils.ModelOutput`] (if `return_dict_in_generate=True`\n        or when `config.return_dict_in_generate=True`) or a `torch.FloatTensor`.\n    \n            If the model is *not* an encoder-decoder model (`model.config.is_encoder_decoder=False`), the possible\n            [`~utils.ModelOutput`] types are:\n    \n                - [`~generation.GreedySearchDecoderOnlyOutput`],\n                - [`~generation.SampleDecoderOnlyOutput`],\n                - [`~generation.BeamSearchDecoderOnlyOutput`],\n                - [`~generation.BeamSampleDecoderOnlyOutput`]\n    \n            If the model is an encoder-decoder model (`model.config.is_encoder_decoder=True`), the possible\n            [`~utils.ModelOutput`] types are:\n    \n                - [`~generation.GreedySearchEncoderDecoderOutput`],\n                - [`~generation.SampleEncoderDecoderOutput`],\n                - [`~generation.BeamSearchEncoderDecoderOutput`],\n                - [`~generation.BeamSampleEncoderDecoderOutput`]\n\n"
     ]
    }
   ],
   "source": [
    "# Options for invoking the model (lots to see here)\n",
    "help(model.generate)"
   ]
  },
  {
   "cell_type": "code",
   "execution_count": 0,
   "metadata": {
    "application/vnd.databricks.v1+cell": {
     "cellMetadata": {
      "byteLimit": 2048000,
      "rowLimit": 10000
     },
     "inputWidgets": {},
     "nuid": "6618f2b4-f41c-40f1-81bd-f681d0a44a08",
     "showTitle": false,
     "title": ""
    }
   },
   "outputs": [
    {
     "output_type": "stream",
     "name": "stdout",
     "text": [
      "Help on method batch_decode in module transformers.tokenization_utils_base:\n\nbatch_decode(sequences: Union[List[int], List[List[int]], ForwardRef('np.ndarray'), ForwardRef('torch.Tensor'), ForwardRef('tf.Tensor')], skip_special_tokens: bool = False, clean_up_tokenization_spaces: bool = None, **kwargs) -> List[str] method of transformers.models.t5.tokenization_t5.T5Tokenizer instance\n    Convert a list of lists of token ids into a list of strings by calling decode.\n    \n    Args:\n        sequences (`Union[List[int], List[List[int]], np.ndarray, torch.Tensor, tf.Tensor]`):\n            List of tokenized input ids. Can be obtained using the `__call__` method.\n        skip_special_tokens (`bool`, *optional*, defaults to `False`):\n            Whether or not to remove special tokens in the decoding.\n        clean_up_tokenization_spaces (`bool`, *optional*):\n            Whether or not to clean up the tokenization spaces. If `None`, will default to\n            `self.clean_up_tokenization_spaces`.\n        kwargs (additional keyword arguments, *optional*):\n            Will be passed to the underlying model specific decode method.\n    \n    Returns:\n        `List[str]`: The list of decoded sentences.\n\n"
     ]
    }
   ],
   "source": [
    "# Options for calling the tokenizer for decoding (not much to see here)\n",
    "help(tokenizer.batch_decode)"
   ]
  },
  {
   "cell_type": "markdown",
   "metadata": {
    "application/vnd.databricks.v1+cell": {
     "cellMetadata": {},
     "inputWidgets": {},
     "nuid": "9bc71c71-577c-4343-82da-e0d4dead3a5a",
     "showTitle": false,
     "title": ""
    }
   },
   "source": [
    "## Submit your Results (edX Verified Only)\n",
    "\n",
    "To get credit for this lab, click the submit button in the top right to report the results. If you run into any issues, click `Run` -> `Clear state and run all`, and make sure all tests have passed before re-submitting. If you accidentally deleted any tests, take a look at the notebook's version history to recover them or reload the notebooks."
   ]
  },
  {
   "cell_type": "markdown",
   "metadata": {
    "application/vnd.databricks.v1+cell": {
     "cellMetadata": {},
     "inputWidgets": {},
     "nuid": "9f7090b5-557e-4867-b492-b15b1664624d",
     "showTitle": false,
     "title": ""
    }
   },
   "source": [
    "-sandbox\n",
    "&copy; 2023 Databricks, Inc. All rights reserved.<br/>\n",
    "Apache, Apache Spark, Spark and the Spark logo are trademarks of the <a href=\"https://www.apache.org/\">Apache Software Foundation</a>.<br/>\n",
    "<br/>\n",
    "<a href=\"https://databricks.com/privacy-policy\">Privacy Policy</a> | <a href=\"https://databricks.com/terms-of-use\">Terms of Use</a> | <a href=\"https://help.databricks.com/\">Support</a>"
   ]
  }
 ],
 "metadata": {
  "application/vnd.databricks.v1+notebook": {
   "dashboards": [],
   "language": "python",
   "notebookMetadata": {
    "pythonIndentUnit": 2
   },
   "notebookName": "LLM 01L - LLMs with Hugging Face Lab",
   "widgets": {}
  }
 },
 "nbformat": 4,
 "nbformat_minor": 0
}
